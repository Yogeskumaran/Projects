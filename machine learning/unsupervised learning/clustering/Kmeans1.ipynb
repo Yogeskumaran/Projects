import pandas as pd 
import numpy as np 
from sklearn import metrics
from sklearn.preprocessing import StandardScaler
from sklearn.preprocessing import LabelEncoder
from matplotlib import pyplot as plt 
from yellowbrick.cluster import KElbowVisualizer
from sklearn.cluster import KMeans,AgglomerativeClustering
np.randomseed(42)
df=pd.read_excel(r"C:\Users\kumar\Downloads\Book1.xlsx")
