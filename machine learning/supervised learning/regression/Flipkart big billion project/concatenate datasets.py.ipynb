{
 "cells": [
  {
   "cell_type": "code",
   "execution_count": null,
   "id": "3be77a01",
   "metadata": {},
   "outputs": [],
   "source": [
    "!pip install pandas openpyxl  \n"
   ]
  },
  {
   "cell_type": "code",
   "execution_count": null,
   "id": "a14f0d27",
   "metadata": {},
   "outputs": [],
   "source": [
    "import os \n",
    "import pandas as pd\n",
    "import tkinter as tk\n",
    "from tkinter import filedialog\n",
    "folder_path=filedialog.askdirectory(title=\"select folder\")\n",
    "file_path=[os.path.join(folder_path,file)for file in os.listdir(folder_path)if file.endswith('.csv')]\n",
    "dfs=[pd.read_csv(file)for file in file_path]\n",
    "concatenated_data=pd.concat(dfs,ignore_index=True)\n",
    "concatenated_data.to_csv(r\"C:\\Users\\kumar\\Downloads\\flipkart bigbillion days(laptop)\",index=False)\n",
    "info_label.config(text=\"datasets are concatenated\")\n",
    "window=tk.Tk()\n",
    "window.title(\"concatenate datasets\")\n",
    "concatenate_button=tk.button(window,text=\"concatenate datasets\",command=concatenate_datasets)\n",
    "concatenate_button.pack(pady=10)\n"
   ]
  }
 ],
 "metadata": {
  "kernelspec": {
   "display_name": "Python 3 (ipykernel)",
   "language": "python",
   "name": "python3"
  },
  "language_info": {
   "codemirror_mode": {
    "name": "ipython",
    "version": 3
   },
   "file_extension": ".py",
   "mimetype": "text/x-python",
   "name": "python",
   "nbconvert_exporter": "python",
   "pygments_lexer": "ipython3",
   "version": "3.11.4"
  }
 },
 "nbformat": 4,
 "nbformat_minor": 5
}
