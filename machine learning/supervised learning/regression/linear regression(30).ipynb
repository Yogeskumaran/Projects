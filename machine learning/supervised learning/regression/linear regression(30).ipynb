{
 "cells": [
  {
   "cell_type": "code",
   "execution_count": 24,
   "id": "66c7aeb9",
   "metadata": {},
   "outputs": [
    {
     "name": "stdout",
     "output_type": "stream",
     "text": [
      "[[70096.78678387]]\n"
     ]
    }
   ],
   "source": [
    "import pandas as pd\n",
    "import numpy as np\n",
    "from sklearn.linear_model import LinearRegression\n",
    "data=pd.read_csv(r\"C:\\Users\\kumar\\Downloads\\flipkart bigbillion days(laptop)\\seperated1 csv.csv\")\n",
    "x=data['Processor numeric'].values\n",
    "y=data['original_price'].values\n",
    "x=x.reshape(-1,1)\n",
    "y=y.reshape(-1,1)\n",
    "model=LinearRegression()\n",
    "model.fit(x,y)\n",
    "prediction=model.predict([[76]])\n",
    "print(prediction)\n"
   ]
  },
  {
   "cell_type": "code",
   "execution_count": 23,
   "id": "45dabe00",
   "metadata": {},
   "outputs": [
    {
     "data": {
      "text/plain": [
       "0.00898653671007521"
      ]
     },
     "execution_count": 23,
     "metadata": {},
     "output_type": "execute_result"
    }
   ],
   "source": [
    "model.score(x,y)"
   ]
  }
 ],
 "metadata": {
  "kernelspec": {
   "display_name": "Python 3 (ipykernel)",
   "language": "python",
   "name": "python3"
  },
  "language_info": {
   "codemirror_mode": {
    "name": "ipython",
    "version": 3
   },
   "file_extension": ".py",
   "mimetype": "text/x-python",
   "name": "python",
   "nbconvert_exporter": "python",
   "pygments_lexer": "ipython3",
   "version": "3.11.4"
  }
 },
 "nbformat": 4,
 "nbformat_minor": 5
}
