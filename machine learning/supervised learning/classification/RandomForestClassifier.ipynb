{
 "cells": [
  {
   "cell_type": "code",
   "execution_count": 15,
   "id": "10c976f5",
   "metadata": {},
   "outputs": [
    {
     "data": {
      "text/plain": [
       "Index(['Age', 'EstimatedSalary', 'Purchased'], dtype='object')"
      ]
     },
     "execution_count": 15,
     "metadata": {},
     "output_type": "execute_result"
    }
   ],
   "source": [
    "import pandas as pd\n",
    "import numpy as np\n",
    "from sklearn.ensemble import RandomForestClassifier\n",
    "from sklearn.metrics import r2_score,accuracy_score\n",
    "from sklearn.preprocessing import StandardScaler\n",
    "df=pd.read_csv(r\"C:\\Users\\kumar\\Downloads\\Social_Network_Ads.csv\")\n",
    "df.columns"
   ]
  },
  {
   "cell_type": "code",
   "execution_count": 9,
   "id": "ec77aaf3",
   "metadata": {},
   "outputs": [],
   "source": [
    "x=df.drop('Purchased',axis=1).values\n",
    "y=df['Purchased'].values"
   ]
  },
  {
   "cell_type": "code",
   "execution_count": 10,
   "id": "8ced8c57",
   "metadata": {},
   "outputs": [],
   "source": [
    "from sklearn.model_selection import train_test_split\n",
    "x_train,x_test,y_train,y_test=train_test_split(x,y,test_size=0.2,random_state=42)\n"
   ]
  },
  {
   "cell_type": "code",
   "execution_count": 11,
   "id": "b17438bf",
   "metadata": {},
   "outputs": [],
   "source": [
    "sc=StandardScaler()\n",
    "x_train=sc.fit_transform(x_train)\n",
    "x_test=sc.fit_transform(x_test)"
   ]
  },
  {
   "cell_type": "code",
   "execution_count": 38,
   "id": "1431319b",
   "metadata": {},
   "outputs": [],
   "source": [
    "rf=RandomForestClassifier(n_estimators=10,criterion='gini',random_state=42)\n",
    "model=rf.fit(x_train,y_train)"
   ]
  },
  {
   "cell_type": "code",
   "execution_count": 39,
   "id": "d834f0cc",
   "metadata": {},
   "outputs": [
    {
     "name": "stdout",
     "output_type": "stream",
     "text": [
      "the Root mean square score of this model is: 0.3406593406593408\n"
     ]
    }
   ],
   "source": [
    "pred=rf.predict(x_test)\n",
    "r2score= r2_score(y_test,pred)\n",
    "print(\"the Root mean square score of this model is:\",r2score)"
   ]
  },
  {
   "cell_type": "code",
   "execution_count": 40,
   "id": "16682fb1",
   "metadata": {},
   "outputs": [
    {
     "name": "stdout",
     "output_type": "stream",
     "text": [
      "the accuracy score of the predicted model: 0.85\n"
     ]
    }
   ],
   "source": [
    "As=accuracy_score(y_test,pred)\n",
    "print(\"the accuracy score of the predicted model:\",As)"
   ]
  },
  {
   "cell_type": "code",
   "execution_count": 41,
   "id": "776ab19a",
   "metadata": {},
   "outputs": [
    {
     "name": "stdout",
     "output_type": "stream",
     "text": [
      "[1]\n"
     ]
    }
   ],
   "source": [
    "print(rf.predict(sc.transform([[21,150000]])))\n"
   ]
  }
 ],
 "metadata": {
  "kernelspec": {
   "display_name": "Python 3 (ipykernel)",
   "language": "python",
   "name": "python3"
  },
  "language_info": {
   "codemirror_mode": {
    "name": "ipython",
    "version": 3
   },
   "file_extension": ".py",
   "mimetype": "text/x-python",
   "name": "python",
   "nbconvert_exporter": "python",
   "pygments_lexer": "ipython3",
   "version": "3.11.4"
  }
 },
 "nbformat": 4,
 "nbformat_minor": 5
}
