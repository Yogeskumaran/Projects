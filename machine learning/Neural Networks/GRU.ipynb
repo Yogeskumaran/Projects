{
 "cells": [
  {
   "cell_type": "code",
   "execution_count": 2,
   "id": "939de743-f004-4fa6-9a76-2fd495c090ef",
   "metadata": {},
   "outputs": [
    {
     "name": "stdout",
     "output_type": "stream",
     "text": [
      "(30580, 2)\n"
     ]
    }
   ],
   "source": [
    "import pandas as pd\n",
    "import tensorflow as tf\n",
    "from sklearn.model_selection import train_test_split\n",
    "from keras.models import Sequential\n",
    "from transformers import LongformerTokenizer\n",
    "filepath=[r\"B:\\project\\human\\human_chunk_1.csv\",r\"B:\\project\\ai\\ai_chunk_1.csv\"]\n",
    "dfs = [pd.read_csv(filepath) for filepath in filepath]\n",
    "df = pd.concat(dfs, ignore_index=True)\n",
    "print(df.shape)"
   ]
  },
  {
   "cell_type": "code",
   "execution_count": 3,
   "id": "0253451d-6b27-438f-9ac9-d02beccf8b78",
   "metadata": {},
   "outputs": [],
   "source": [
    "from transformers import LongformerTokenizer\n",
    "tokenizer=LongformerTokenizer.from_pretrained('allenai/longformer-base-4096')\n",
    "essay=df['text'].tolist()\n",
    "tokens=tokenizer(essay,return_tensors='pt',padding=True,truncation=True)\n"
   ]
  },
  {
   "cell_type": "code",
   "execution_count": 4,
   "id": "3dfe2b89-ddd8-4e6c-b287-1661d7084baf",
   "metadata": {},
   "outputs": [],
   "source": [
    "x=tokens['input_ids']\n",
    "y=df['generated']\n",
    "xtrain,xtest,ytrain,ytest=train_test_split(x,y,test_size=0.2,random_state=42)\n",
    "xtrain_np=xtrain.numpy()\n",
    "xtest_np=xtest.numpy()\n"
   ]
  },
  {
   "cell_type": "code",
   "execution_count": 5,
   "id": "71adf352-ed24-4b48-a29e-a8b83f753ade",
   "metadata": {},
   "outputs": [
    {
     "name": "stdout",
     "output_type": "stream",
     "text": [
      "WARNING:tensorflow:From A:\\anaconda\\Lib\\site-packages\\keras\\src\\backend.py:873: The name tf.get_default_graph is deprecated. Please use tf.compat.v1.get_default_graph instead.\n",
      "\n",
      "WARNING:tensorflow:From A:\\anaconda\\Lib\\site-packages\\keras\\src\\optimizers\\__init__.py:309: The name tf.train.Optimizer is deprecated. Please use tf.compat.v1.train.Optimizer instead.\n",
      "\n",
      "Epoch 1/5\n",
      "WARNING:tensorflow:From A:\\anaconda\\Lib\\site-packages\\keras\\src\\utils\\tf_utils.py:492: The name tf.ragged.RaggedTensorValue is deprecated. Please use tf.compat.v1.ragged.RaggedTensorValue instead.\n",
      "\n",
      "WARNING:tensorflow:From A:\\anaconda\\Lib\\site-packages\\keras\\src\\engine\\base_layer_utils.py:384: The name tf.executing_eagerly_outside_functions is deprecated. Please use tf.compat.v1.executing_eagerly_outside_functions instead.\n",
      "\n",
      "383/383 [==============================] - 493s 1s/step - loss: 0.6935 - accuracy: 0.4988\n",
      "Epoch 2/5\n",
      "383/383 [==============================] - 504s 1s/step - loss: 0.6933 - accuracy: 0.5013\n",
      "Epoch 3/5\n",
      "383/383 [==============================] - 505s 1s/step - loss: 0.6933 - accuracy: 0.4999\n",
      "Epoch 4/5\n",
      "383/383 [==============================] - 504s 1s/step - loss: 0.6932 - accuracy: 0.5011\n",
      "Epoch 5/5\n",
      "383/383 [==============================] - 509s 1s/step - loss: 0.6932 - accuracy: 0.4972\n"
     ]
    },
    {
     "data": {
      "text/plain": [
       "<keras.src.callbacks.History at 0x208898ba990>"
      ]
     },
     "execution_count": 5,
     "metadata": {},
     "output_type": "execute_result"
    }
   ],
   "source": [
    "from keras.models import Sequential\n",
    "from keras.layers import Embedding, GRU, Dense\n",
    "\n",
    "# Create a Sequential model\n",
    "model = Sequential()\n",
    "\n",
    "# Define the input length (assuming it's the same as before)\n",
    "input_length = None\n",
    "\n",
    "# Add the Embedding layer\n",
    "model.add(Embedding(input_dim=52000, output_dim=128, input_length=input_length))\n",
    "\n",
    "# Replace the LSTM layer with a GRU layer\n",
    "model.add(GRU(64))\n",
    "\n",
    "# Add the Dense output layer\n",
    "model.add(Dense(1, activation='sigmoid'))\n",
    "\n",
    "# Compile the model\n",
    "model.compile(optimizer='adam', loss='binary_crossentropy', metrics=['accuracy'])\n",
    "\n",
    "# Train the model\n",
    "model.fit(xtrain_np, ytrain, epochs=5, batch_size=64)"
   ]
  },
  {
   "cell_type": "code",
   "execution_count": null,
   "id": "1e9d49df-c336-40e0-9fe2-61e138a975ab",
   "metadata": {},
   "outputs": [],
   "source": [
    "from keras.models import Model\n",
    "from keras.layers import Input, Embedding, Conv1D, MaxPooling1D, GRU, concatenate, Flatten, Dense\n",
    "\n",
    "# Define input shape\n",
    "input_length = None\n",
    "input_layer = Input(shape=(input_length,))\n",
    "\n",
    "# Embedding layer\n",
    "embedding_layer = Embedding(input_dim=52000, output_dim=128, input_length=input_length)(input_layer)\n",
    "\n",
    "# CNN branch\n",
    "cnn_layer = Conv1D(filters=64, kernel_size=5, activation='relu')(embedding_layer)\n",
    "cnn_layer = MaxPooling1D(pool_size=2)(cnn_layer)\n",
    "\n",
    "# GRU branch\n",
    "gru_layer = GRU(64)(embedding_layer)\n",
    "\n",
    "# Merge the outputs of the CNN and GRU branches\n",
    "merged_layer = concatenate([cnn_layer, gru_layer])\n",
    "\n",
    "# Flatten the merged output\n",
    "flattened_layer = Flatten()(merged_layer)\n",
    "\n",
    "# Dense layers\n",
    "dense_layer = Dense(64, activation='relu')(flattened_layer)\n",
    "output_layer = Dense(1, activation='sigmoid')(dense_layer)\n",
    "\n",
    "# Create the combined model\n",
    "combined_model = Model(inputs=input_layer, outputs=output_layer)\n",
    "\n",
    "# Compile the model\n",
    "combined_model.compile(optimizer='adam', loss='binary_crossentropy', metrics=['accuracy'])\n",
    "\n",
    "# Print the model summary\n",
    "combined_model.summary()\n"
   ]
  }
 ],
 "metadata": {
  "kernelspec": {
   "display_name": "Python 3 (ipykernel)",
   "language": "python",
   "name": "python3"
  },
  "language_info": {
   "codemirror_mode": {
    "name": "ipython",
    "version": 3
   },
   "file_extension": ".py",
   "mimetype": "text/x-python",
   "name": "python",
   "nbconvert_exporter": "python",
   "pygments_lexer": "ipython3",
   "version": "3.11.7"
  }
 },
 "nbformat": 4,
 "nbformat_minor": 5
}
