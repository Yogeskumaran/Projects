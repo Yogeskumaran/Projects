{
 "cells": [
  {
   "cell_type": "code",
   "execution_count": 1,
   "id": "51c0a3e5-3e49-40e2-a730-004113a186d5",
   "metadata": {},
   "outputs": [
    {
     "name": "stdout",
     "output_type": "stream",
     "text": [
      "WARNING:tensorflow:From A:\\anaconda\\Lib\\site-packages\\keras\\src\\losses.py:2976: The name tf.losses.sparse_softmax_cross_entropy is deprecated. Please use tf.compat.v1.losses.sparse_softmax_cross_entropy instead.\n",
      "\n",
      "WARNING:tensorflow:From A:\\anaconda\\Lib\\site-packages\\keras\\src\\backend.py:1398: The name tf.executing_eagerly_outside_functions is deprecated. Please use tf.compat.v1.executing_eagerly_outside_functions instead.\n",
      "\n",
      "WARNING:tensorflow:From A:\\anaconda\\Lib\\site-packages\\keras\\src\\optimizers\\__init__.py:309: The name tf.train.Optimizer is deprecated. Please use tf.compat.v1.train.Optimizer instead.\n",
      "\n"
     ]
    }
   ],
   "source": [
    "from keras.models import load_model\n",
    "from transformers import LongformerTokenizer\n",
    "import numpy as np\n",
    "model=load_model('D_MODEL.keras')\n",
    "tokenizer=LongformerTokenizer.from_pretrained('allenai/longformer-base-4096')"
   ]
  },
  {
   "cell_type": "code",
   "execution_count": 8,
   "id": "9299db5f-448c-4b18-9ecc-a0b4d6cee723",
   "metadata": {},
   "outputs": [
    {
     "name": "stdout",
     "output_type": "stream",
     "text": [
      "1/1 [==============================] - 0s 51ms/step\n",
      "[[1.]]\n",
      "1: AI GENERATED TEXT\n"
     ]
    }
   ],
   "source": [
    "x='At its core, the mobile phone revolutionized communication by enabling instantaneous connections across vast distances. The ability to make calls, send messages, and now engage in video calls has reshaped the way people interact and communicate. Mobile phones have transcended barriers of time and space, facilitating real-time conversations irrespective of geographical constraints. This connectivity has strengthened social bonds, allowing individuals to stay in touch with loved ones, collaborate with colleagues, and engage with global communities.'\n",
    "# x='Basically, the mobile phone revolutionized communication by making it possible to connect with people who are far away instantly. Making calls, sending messages and even video chatting has changed how we communicate and interact. The mobile phone has stepped beyond the boundaries of time and space hence making it possible for people to talk in real-time in different parts of the world. As a result, this kind of connectivity enhances socialization among people; thus, they are able to keep in touch with their families, work jointly with their colleagues or be part of worldwide communities.'\n",
    "tokens=tokenizer(x,return_tensors='pt')\n",
    "input=tokens['input_ids'].numpy()\n",
    "prediction=model.predict(input)\n",
    "threshold=0.5\n",
    "print(prediction)\n",
    "pred_value=prediction[0,0]\n",
    "if pred_value>=threshold:\n",
    "    print(\"1: AI GENERATED TEXT\")\n",
    "else:\n",
    "    print(\"0:HUMAN GENERATED TEXT\")"
   ]
  },
  {
   "cell_type": "code",
   "execution_count": 9,
   "id": "70fa3ebb-085c-48a9-a048-d7db7174e05c",
   "metadata": {},
   "outputs": [
    {
     "name": "stdout",
     "output_type": "stream",
     "text": [
      "1/1 [==============================] - 0s 35ms/step\n",
      "[[0.00013513]]\n",
      "0:HUMAN GENERATED TEXT\n"
     ]
    }
   ],
   "source": [
    "# x='At its core, the mobile phone revolutionized communication by enabling instantaneous connections across vast distances. The ability to make calls, send messages, and now engage in video calls has reshaped the way people interact and communicate. Mobile phones have transcended barriers of time and space, facilitating real-time conversations irrespective of geographical constraints. This connectivity has strengthened social bonds, allowing individuals to stay in touch with loved ones, collaborate with colleagues, and engage with global communities.'\n",
    "x='At its essence, cellular phones changed by facilitating instant communication across long distances. The ability to make phone calls, text and now video call has altered human communication and language. Mobiles have broken the barriers of time and space; hence real-time interaction can occur even if people are miles apart. This network has strengthened social bonds making it easier for individuals to get in touch with their dear ones, work together with peers and connect to the world at large.'\n",
    "# x='Basically, the mobile phone revolutionized communication by making it possible to connect with people who are far away instantly. Making calls, sending messages and even video chatting has changed how we communicate and interact. The mobile phone has stepped beyond the boundaries of time and space hence making it possible for people to talk in real-time in different parts of the world. As a result, this kind of connectivity enhances socialization among people; thus, they are able to keep in touch with their families, work jointly with their colleagues or be part of worldwide communities.'\n",
    "tokens=tokenizer(x,return_tensors='pt')\n",
    "input=tokens['input_ids'].numpy()\n",
    "prediction=model.predict(input)\n",
    "print(prediction)\n",
    "threshold=0.5\n",
    "pred_value=prediction[0,0]\n",
    "if pred_value>=threshold:\n",
    "    print(\"1: AI GENERATED TEXT\")\n",
    "else:\n",
    "    print(\"0:HUMAN GENERATED TEXT\")"
   ]
  }
 ],
 "metadata": {
  "kernelspec": {
   "display_name": "Python 3 (ipykernel)",
   "language": "python",
   "name": "python3"
  },
  "language_info": {
   "codemirror_mode": {
    "name": "ipython",
    "version": 3
   },
   "file_extension": ".py",
   "mimetype": "text/x-python",
   "name": "python",
   "nbconvert_exporter": "python",
   "pygments_lexer": "ipython3",
   "version": "3.11.7"
  }
 },
 "nbformat": 4,
 "nbformat_minor": 5
}
