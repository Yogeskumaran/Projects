{
 "cells": [
  {
   "cell_type": "code",
   "execution_count": 2,
   "id": "eaa0a533-43e8-4ab5-a7fd-e3fc48564593",
   "metadata": {},
   "outputs": [
    {
     "name": "stdout",
     "output_type": "stream",
     "text": [
      "WARNING:tensorflow:From A:\\anaconda\\Lib\\site-packages\\keras\\src\\losses.py:2976: The name tf.losses.sparse_softmax_cross_entropy is deprecated. Please use tf.compat.v1.losses.sparse_softmax_cross_entropy instead.\n",
      "\n",
      "(118236, 2)\n"
     ]
    }
   ],
   "source": [
    "import pandas as pd\n",
    "import tensorflow as tf\n",
    "from sklearn.model_selection import train_test_split\n",
    "from keras.models import Sequential\n",
    "from keras.layers import Dense,LSTM,Embedding\n",
    "from keras.preprocessing.sequence import pad_sequences\n",
    "filepath=[r\"B:\\project\\human\\human_chunk_11.csv\",r\"B:\\project\\ai\\ai_chunk_11.csv\",\"B:\\project\\human\\human_chunk_12.csv\",r\"B:\\project\\ai\\ai_chunk_12.csv\",\"B:\\project\\human\\human_chunk_13.csv\",r\"B:\\project\\ai\\ai_chunk_12.csv\",\"B:\\project\\human\\human_chunk_14.csv\",r\"B:\\project\\ai\\ai_chunk_11.csv\"]\n",
    "dfs = [pd.read_csv(filepath) for filepath in filepath]\n",
    "df = pd.concat(dfs, ignore_index=True)\n",
    "print(df.shape)"
   ]
  },
  {
   "cell_type": "code",
   "execution_count": 4,
   "id": "7805afed-83b0-49aa-98da-926fa1175d5e",
   "metadata": {},
   "outputs": [],
   "source": [
    "from transformers import LongformerTokenizer\n",
    "data=df['text'].tolist()\n",
    "tokenizer=LongformerTokenizer.from_pretrained('allenai/longformer-base-4096')\n",
    "tokens=tokenizer(data,return_tensors='pt',padding=True,truncation=True)"
   ]
  },
  {
   "cell_type": "code",
   "execution_count": 5,
   "id": "1470c777-4cde-43e7-814f-2c8d265f1e91",
   "metadata": {},
   "outputs": [],
   "source": [
    "from sklearn.model_selection import train_test_split\n",
    "x=tokens['input_ids']\n",
    "y=df['generated']\n",
    "xtrain,xtemp,ytrain,ytemp=train_test_split(x,y,test_size=0.3,random_state=42)\n",
    "xtest,xval,ytest,yval=train_test_split(xtemp,ytemp,test_size=0.3,random_state=42)\n",
    "xtest,xtrain,xval=xtest.numpy(),xtrain.numpy(),xval.numpy()"
   ]
  },
  {
   "cell_type": "code",
   "execution_count": 6,
   "id": "cc147032-57cb-43f2-9a7d-4f8298c3861d",
   "metadata": {},
   "outputs": [
    {
     "name": "stdout",
     "output_type": "stream",
     "text": [
      "WARNING:tensorflow:From A:\\anaconda\\Lib\\site-packages\\keras\\src\\backend.py:1398: The name tf.executing_eagerly_outside_functions is deprecated. Please use tf.compat.v1.executing_eagerly_outside_functions instead.\n",
      "\n",
      "WARNING:tensorflow:From A:\\anaconda\\Lib\\site-packages\\keras\\src\\optimizers\\__init__.py:309: The name tf.train.Optimizer is deprecated. Please use tf.compat.v1.train.Optimizer instead.\n",
      "\n",
      "Epoch 1/5\n",
      "WARNING:tensorflow:From A:\\anaconda\\Lib\\site-packages\\keras\\src\\utils\\tf_utils.py:492: The name tf.ragged.RaggedTensorValue is deprecated. Please use tf.compat.v1.ragged.RaggedTensorValue instead.\n",
      "\n",
      "WARNING:tensorflow:From A:\\anaconda\\Lib\\site-packages\\keras\\src\\engine\\base_layer_utils.py:384: The name tf.executing_eagerly_outside_functions is deprecated. Please use tf.compat.v1.executing_eagerly_outside_functions instead.\n",
      "\n",
      "324/324 [==============================] - 234s 708ms/step - loss: 0.0033 - accuracy: 0.9992 - val_loss: 0.0025 - val_accuracy: 0.9995\n",
      "Epoch 2/5\n",
      "324/324 [==============================] - 232s 715ms/step - loss: 5.7455e-04 - accuracy: 0.9999 - val_loss: 0.0019 - val_accuracy: 0.9995\n",
      "Epoch 3/5\n",
      "324/324 [==============================] - 231s 714ms/step - loss: 8.2909e-04 - accuracy: 0.9999 - val_loss: 0.0047 - val_accuracy: 0.9992\n",
      "Epoch 4/5\n",
      "324/324 [==============================] - 231s 712ms/step - loss: 2.4466e-04 - accuracy: 1.0000 - val_loss: 0.0026 - val_accuracy: 0.9995\n",
      "Epoch 5/5\n",
      "324/324 [==============================] - 230s 711ms/step - loss: 2.2807e-05 - accuracy: 1.0000 - val_loss: 0.0027 - val_accuracy: 0.9996\n"
     ]
    },
    {
     "data": {
      "text/plain": [
       "<keras.src.callbacks.History at 0x150be2dd750>"
      ]
     },
     "execution_count": 6,
     "metadata": {},
     "output_type": "execute_result"
    }
   ],
   "source": [
    "from keras.models import load_model\n",
    "model=load_model('finetuned3.keras')\n",
    "model.compile(optimizer='adam',loss='binary_crossentropy',metrics=['accuracy'])\n",
    "model.fit(xtrain,ytrain,epochs=5,batch_size=256,validation_data=(xval,yval))"
   ]
  },
  {
   "cell_type": "code",
   "execution_count": 7,
   "id": "8c2e3563-aba8-4394-bdae-8d6d2cc8bf5f",
   "metadata": {},
   "outputs": [
    {
     "name": "stdout",
     "output_type": "stream",
     "text": [
      "776/776 [==============================] - 15s 19ms/step - loss: 0.0020 - accuracy: 0.9997\n"
     ]
    }
   ],
   "source": [
    "model.evaluate(xtest,ytest)\n",
    "model.save('finetuned4.keras')"
   ]
  }
 ],
 "metadata": {
  "kernelspec": {
   "display_name": "Python 3 (ipykernel)",
   "language": "python",
   "name": "python3"
  },
  "language_info": {
   "codemirror_mode": {
    "name": "ipython",
    "version": 3
   },
   "file_extension": ".py",
   "mimetype": "text/x-python",
   "name": "python",
   "nbconvert_exporter": "python",
   "pygments_lexer": "ipython3",
   "version": "3.11.7"
  }
 },
 "nbformat": 4,
 "nbformat_minor": 5
}
