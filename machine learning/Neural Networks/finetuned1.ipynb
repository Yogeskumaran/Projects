{
 "cells": [
  {
   "cell_type": "code",
   "execution_count": 33,
   "id": "94ba2372-0496-4f60-8faa-d1ca2823ab2d",
   "metadata": {},
   "outputs": [
    {
     "name": "stdout",
     "output_type": "stream",
     "text": [
      "(30580, 2)\n"
     ]
    }
   ],
   "source": [
    "from keras.models import load_model,Model\n",
    "from transformers import LongformerTokenizer\n",
    "from keras.layers import Input,Embedding,Dense,Dropout\n",
    "import pandas as pd\n",
    "import numpy as np\n",
    "file_path=[r\"B:\\project\\human\\human_chunk_1.csv\",r\"B:\\project\\ai\\ai_chunk_1.csv\"]\n",
    "dfs=[pd.read_csv(file_path)for file_path in file_path]\n",
    "df = pd.concat(dfs, ignore_index=True)\n",
    "print(df.shape)"
   ]
  },
  {
   "cell_type": "code",
   "execution_count": 34,
   "id": "bc3ca008-2dac-4a91-94d1-229fe9bdcba7",
   "metadata": {},
   "outputs": [],
   "source": [
    "essay=df['text'].tolist()\n",
    "from transformers import LongformerTokenizer\n",
    "tokenizer=LongformerTokenizer.from_pretrained('allenai/longformer-base-4096')\n",
    "essay=df['text'].tolist()\n",
    "tokens=tokenizer(essay,return_tensors='pt',padding=True,truncation=True)"
   ]
  },
  {
   "cell_type": "code",
   "execution_count": 41,
   "id": "3324812b-bf11-4f94-b2ee-2a25896cbe02",
   "metadata": {},
   "outputs": [],
   "source": [
    "from sklearn.model_selection import train_test_split\n",
    "x=tokens['input_ids']\n",
    "y=df['generated']\n",
    "xtrain,xtemp,ytrain,ytemp=train_test_split(x,y,test_size=0.4,random_state=42)\n",
    "xval,xtest,yval,ytest=train_test_split(xtemp,ytemp,test_size=0.4,random_state=42)\n",
    "\n",
    "xtrain=xtrain.numpy()\n",
    "xtest=xtest.numpy()\n",
    "xval=xval.numpy()"
   ]
  },
  {
   "cell_type": "code",
   "execution_count": 23,
   "id": "4bdca9e2-9de8-44e0-8d20-a1bfaa9c91b5",
   "metadata": {},
   "outputs": [
    {
     "data": {
      "text/plain": [
       "(24464, 2216)"
      ]
     },
     "execution_count": 23,
     "metadata": {},
     "output_type": "execute_result"
    }
   ],
   "source": [
    "xtrain.shape"
   ]
  },
  {
   "cell_type": "code",
   "execution_count": 30,
   "id": "97689155-bf44-480a-b88e-d2212d1ae2c7",
   "metadata": {},
   "outputs": [],
   "source": [
    "xtrain = np.reshape(xtrain, (xtrain.shape[0], -1))\n"
   ]
  },
  {
   "cell_type": "code",
   "execution_count": 29,
   "id": "e475ac5b-087e-4c42-a8ef-af75a1379450",
   "metadata": {},
   "outputs": [
    {
     "data": {
      "text/plain": [
       "(24464, 2216)"
      ]
     },
     "execution_count": 29,
     "metadata": {},
     "output_type": "execute_result"
    }
   ],
   "source": []
  },
  {
   "cell_type": "code",
   "execution_count": 42,
   "id": "93da8752-14d7-4ed2-8da6-49e8a3e5c026",
   "metadata": {},
   "outputs": [
    {
     "name": "stdout",
     "output_type": "stream",
     "text": [
      "Epoch 1/5\n",
      "72/72 [==============================] - 79s 1s/step - loss: 0.0187 - accuracy: 0.9937 - val_loss: 0.0124 - val_accuracy: 0.9954\n",
      "Epoch 2/5\n",
      "72/72 [==============================] - 77s 1s/step - loss: 0.0025 - accuracy: 0.9997 - val_loss: 0.0107 - val_accuracy: 0.9959\n",
      "Epoch 3/5\n",
      "72/72 [==============================] - 77s 1s/step - loss: 8.0351e-04 - accuracy: 1.0000 - val_loss: 0.0106 - val_accuracy: 0.9959\n",
      "Epoch 4/5\n",
      "72/72 [==============================] - 78s 1s/step - loss: 4.4608e-04 - accuracy: 1.0000 - val_loss: 0.0106 - val_accuracy: 0.9960\n",
      "Epoch 5/5\n",
      "72/72 [==============================] - 79s 1s/step - loss: 3.2393e-04 - accuracy: 1.0000 - val_loss: 0.0108 - val_accuracy: 0.9962\n"
     ]
    },
    {
     "data": {
      "text/plain": [
       "<keras.src.callbacks.History at 0x1ab3b9ee910>"
      ]
     },
     "execution_count": 42,
     "metadata": {},
     "output_type": "execute_result"
    }
   ],
   "source": [
    "model=load_model('dmodel20.keras')\n",
    "model.compile(optimizer='adam',loss='binary_crossentropy',metrics=['accuracy'])\n",
    "model.fit(xtrain,ytrain,epochs=5,batch_size=256,validation_data=(xval,yval))"
   ]
  },
  {
   "cell_type": "code",
   "execution_count": 43,
   "id": "7b116d76-d061-44cf-95e3-00ef6ef456b5",
   "metadata": {},
   "outputs": [
    {
     "name": "stdout",
     "output_type": "stream",
     "text": [
      "153/153 [==============================] - 4s 26ms/step - loss: 0.0106 - accuracy: 0.9971\n"
     ]
    },
    {
     "data": {
      "text/plain": [
       "[0.010581877082586288, 0.9971387982368469]"
      ]
     },
     "execution_count": 43,
     "metadata": {},
     "output_type": "execute_result"
    }
   ],
   "source": [
    "model.evaluate(xtest,ytest)"
   ]
  },
  {
   "cell_type": "code",
   "execution_count": 44,
   "id": "d90b303d-2c5d-4c70-b1f0-1ac3e8fa514b",
   "metadata": {},
   "outputs": [],
   "source": [
    "model.save(\"finetuned.keras\")"
   ]
  },
  {
   "cell_type": "code",
   "execution_count": 47,
   "id": "2dd168db-073f-46d9-95a0-cc96e19c74b9",
   "metadata": {},
   "outputs": [
    {
     "name": "stdout",
     "output_type": "stream",
     "text": [
      "(61160, 2)\n"
     ]
    }
   ],
   "source": [
    "file_path1=[r\"B:\\project\\human\\human_chunk_2.csv\",r\"B:\\project\\ai\\ai_chunk_2.csv\",\"B:\\project\\human\\human_chunk_3.csv\",r\"B:\\project\\ai\\ai_chunk_3.csv\"]\n",
    "dfs1=[pd.read_csv(file_path1)for file_path1 in file_path1]\n",
    "df1 = pd.concat(dfs1, ignore_index=True)\n",
    "print(df1.shape)"
   ]
  },
  {
   "cell_type": "code",
   "execution_count": 48,
   "id": "67c89d25-8d27-4b4a-b572-3e8955d3b498",
   "metadata": {},
   "outputs": [],
   "source": [
    "data=df1['text'].tolist()\n",
    "from transformers import LongformerTokenizer\n",
    "tokenizer=LongformerTokenizer.from_pretrained('allenai/longformer-base-4096')\n",
    "tokens=tokenizer(data,return_tensors='pt',padding=True,truncation=True)"
   ]
  },
  {
   "cell_type": "code",
   "execution_count": 50,
   "id": "a603ef44-3db8-465e-b646-d43334054da1",
   "metadata": {},
   "outputs": [],
   "source": [
    "from sklearn.model_selection import train_test_split\n",
    "x1=tokens['input_ids']\n",
    "y1=df1['generated']\n",
    "x1train,x1temp,y1train,y1temp=train_test_split(x1,y1,test_size=0.4,random_state=42)\n",
    "x1val,x1test,y1val,y1test=train_test_split(x1temp,y1temp,test_size=0.4,random_state=42)\n",
    "\n",
    "x1train=x1train.numpy()\n",
    "x1test=x1test.numpy()\n",
    "x1val=x1val.numpy()"
   ]
  },
  {
   "cell_type": "code",
   "execution_count": 52,
   "id": "8f2a12a3-23eb-46e7-84ad-3d7186e17353",
   "metadata": {},
   "outputs": [
    {
     "name": "stdout",
     "output_type": "stream",
     "text": [
      "Epoch 1/5\n",
      "144/144 [==============================] - 115s 790ms/step - loss: 0.0200 - accuracy: 0.9945 - val_loss: 0.0133 - val_accuracy: 0.9965\n",
      "Epoch 2/5\n",
      "144/144 [==============================] - 120s 831ms/step - loss: 0.0059 - accuracy: 0.9990 - val_loss: 0.0129 - val_accuracy: 0.9966\n",
      "Epoch 3/5\n",
      "144/144 [==============================] - 129s 893ms/step - loss: 0.0029 - accuracy: 0.9996 - val_loss: 0.0141 - val_accuracy: 0.9963\n",
      "Epoch 4/5\n",
      "144/144 [==============================] - 129s 893ms/step - loss: 0.0018 - accuracy: 0.9996 - val_loss: 0.0172 - val_accuracy: 0.9963\n",
      "Epoch 5/5\n",
      "144/144 [==============================] - 127s 880ms/step - loss: 0.0019 - accuracy: 0.9998 - val_loss: 0.0168 - val_accuracy: 0.9965\n"
     ]
    },
    {
     "data": {
      "text/plain": [
       "<keras.src.callbacks.History at 0x1ab3e9df990>"
      ]
     },
     "execution_count": 52,
     "metadata": {},
     "output_type": "execute_result"
    }
   ],
   "source": [
    "model1=load_model('finetuned.keras')\n",
    "model1.compile(optimizer='adam',loss='binary_crossentropy',metrics=['accuracy'])\n",
    "model1.fit(x1train,y1train,epochs=5,batch_size=256,validation_data=(x1val,y1val))"
   ]
  },
  {
   "cell_type": "code",
   "execution_count": 53,
   "id": "2f766c9c-f6a6-4d9c-9a34-9efffc147a2d",
   "metadata": {},
   "outputs": [
    {
     "name": "stdout",
     "output_type": "stream",
     "text": [
      "306/306 [==============================] - 7s 22ms/step - loss: 0.0174 - accuracy: 0.9961\n"
     ]
    },
    {
     "data": {
      "text/plain": [
       "[0.017398221418261528, 0.9961168766021729]"
      ]
     },
     "execution_count": 53,
     "metadata": {},
     "output_type": "execute_result"
    }
   ],
   "source": [
    "model1.evaluate(x1test,y1test)"
   ]
  },
  {
   "cell_type": "code",
   "execution_count": 54,
   "id": "bed096ab-9b31-4662-86e1-b5091dbee620",
   "metadata": {},
   "outputs": [],
   "source": [
    "model1.save('finetuned1.keras')"
   ]
  }
 ],
 "metadata": {
  "kernelspec": {
   "display_name": "Python 3 (ipykernel)",
   "language": "python",
   "name": "python3"
  },
  "language_info": {
   "codemirror_mode": {
    "name": "ipython",
    "version": 3
   },
   "file_extension": ".py",
   "mimetype": "text/x-python",
   "name": "python",
   "nbconvert_exporter": "python",
   "pygments_lexer": "ipython3",
   "version": "3.11.7"
  }
 },
 "nbformat": 4,
 "nbformat_minor": 5
}
