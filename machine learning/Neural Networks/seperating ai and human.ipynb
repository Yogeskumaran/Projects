{
 "cells": [
  {
   "cell_type": "code",
   "execution_count": 7,
   "id": "93fef940-219e-4470-a6d7-d813333ca1dc",
   "metadata": {},
   "outputs": [],
   "source": [
    "import pandas as pd\n",
    "df = pd.read_csv(\"B:\\project\\AI_Human.csv\")  \n",
    "\n",
    "import re\n",
    "def normalize(text):\n",
    "    text = text.replace(\"\\n\", \" \").replace(\"\\r\", \" \")\n",
    "    text = re.sub(r\"[^\\w\\s]\", \" \", text)\n",
    "    text = re.sub(r\"\\s+\", \" \", text)\n",
    "    text = text.strip()\n",
    "    return text\n",
    "df['text'] = df['text'].apply(lambda x: normalize(x))\n",
    "file_path = r\"B:\\project\\normalized_ai_human_data.csv\"\n",
    "df.to_csv(file_path, index=False)"
   ]
  },
  {
   "cell_type": "code",
   "execution_count": 8,
   "id": "65bfc47c-21e8-4175-aa38-90de58f37c09",
   "metadata": {},
   "outputs": [],
   "source": [
    "data=pd.read_csv(r\"B:\\project\\normalized_ai_human_data.csv\")\n",
    "ai_generated_data = data[data['generated'] == 1]\n",
    "human_generated_data = data[data['generated'] == 0]\n",
    "ai_generated_data.to_csv('B:/project/ai_generated_data.csv', index=False)\n",
    "human_generated_data.to_csv('B:/project/human_generated_data.csv', index=False)"
   ]
  },
  {
   "cell_type": "code",
   "execution_count": 9,
   "id": "2309eca9-6537-4344-bee5-14d93b4e9fc3",
   "metadata": {},
   "outputs": [],
   "source": [
    "df1=pd.read_csv(r\"B:\\project\\ai_generated_data.csv\")\n",
    "df2=pd.read_csv(r\"B:\\project\\human_generated_data.csv\")\n"
   ]
  },
  {
   "cell_type": "code",
   "execution_count": 10,
   "id": "112fd69c-35d7-4891-97dc-109e14fc92b9",
   "metadata": {},
   "outputs": [
    {
     "name": "stdout",
     "output_type": "stream",
     "text": [
      "(181438, 2)\n",
      "(305797, 2)\n"
     ]
    }
   ],
   "source": [
    "print(df1.shape)\n",
    "print(df2.shape)"
   ]
  },
  {
   "cell_type": "code",
   "execution_count": 23,
   "id": "528dd4bb-a5a5-4c80-8646-8e0961ebbca7",
   "metadata": {},
   "outputs": [],
   "source": [
    "# Function to divide data into chunks\n",
    "def divide_into_chunks(df2, chunk_size):\n",
    "    chunks = [df2.iloc[i:i+chunk_size] for i in range(0, len(df2), chunk_size)]\n",
    "    return chunks\n",
    "\n",
    "# Divide human-generated Part 1 data into 20 chunks\n",
    "human_chunks = divide_into_chunks(df2, 15290)\n",
    "\n",
    "# Save the chunks to CSV files\n",
    "for i, chunk in enumerate(human_chunks):\n",
    "    chunk.to_csv(f'B:/project/human/human_chunk_{i+1}.csv', index=False)\n"
   ]
  },
  {
   "cell_type": "code",
   "execution_count": 24,
   "id": "f709189b-30a9-4352-a103-48cb1efec790",
   "metadata": {},
   "outputs": [],
   "source": [
    "# Function to divide data into chunks\n",
    "def divide_into_chunks(df1, chunk_size):\n",
    "    chunks = [df1.iloc[i:i+chunk_size] for i in range(0, len(df1), chunk_size)]\n",
    "    return chunks\n",
    "\n",
    "# Divide human-generated Part 1 data into 20 chunks\n",
    "ai_chunks = divide_into_chunks(df1, 15290)\n",
    "\n",
    "# Save the chunks to CSV files\n",
    "for i, chunk in enumerate(ai_chunks):\n",
    "    chunk.to_csv(f'B:/project/ai/ai_chunk_{i+1}.csv', index=False)\n"
   ]
  }
 ],
 "metadata": {
  "kernelspec": {
   "display_name": "Python 3 (ipykernel)",
   "language": "python",
   "name": "python3"
  },
  "language_info": {
   "codemirror_mode": {
    "name": "ipython",
    "version": 3
   },
   "file_extension": ".py",
   "mimetype": "text/x-python",
   "name": "python",
   "nbconvert_exporter": "python",
   "pygments_lexer": "ipython3",
   "version": "3.11.7"
  }
 },
 "nbformat": 4,
 "nbformat_minor": 5
}
