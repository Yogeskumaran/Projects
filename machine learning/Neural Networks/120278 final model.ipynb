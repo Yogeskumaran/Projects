{
 "cells": [
  {
   "cell_type": "code",
   "execution_count": 1,
   "id": "02640b5f-7de4-499c-8b7b-43b7bd9fb4a4",
   "metadata": {},
   "outputs": [
    {
     "name": "stdout",
     "output_type": "stream",
     "text": [
      "WARNING:tensorflow:From A:\\anaconda\\Lib\\site-packages\\keras\\src\\losses.py:2976: The name tf.losses.sparse_softmax_cross_entropy is deprecated. Please use tf.compat.v1.losses.sparse_softmax_cross_entropy instead.\n",
      "\n",
      "(120278, 2)\n"
     ]
    }
   ],
   "source": [
    "import pandas as pd\n",
    "import tensorflow as tf\n",
    "from sklearn.model_selection import train_test_split\n",
    "from keras.models import Sequential\n",
    "from keras.layers import Dense,LSTM,Embedding\n",
    "from keras.preprocessing.sequence import pad_sequences\n",
    "filepath=[r\"B:\\project\\human\\human_chunk_12.csv\",r\"B:\\project\\ai\\ai_chunk_12.csv\",\"B:\\project\\human\\human_chunk_13.csv\",r\"B:\\project\\ai\\ai_chunk_11.csv\",\"B:\\project\\human\\human_chunk_14.csv\",r\"B:\\project\\ai\\ai_chunk_10.csv\",\"B:\\project\\human\\human_chunk_15.csv\",r\"B:\\project\\ai\\ai_chunk_9.csv\"]\n",
    "dfs = [pd.read_csv(filepath) for filepath in filepath]\n",
    "df = pd.concat(dfs, ignore_index=True)\n",
    "print(df.shape)"
   ]
  },
  {
   "cell_type": "code",
   "execution_count": 5,
   "id": "0bcce2c8-6839-487a-a10c-dccbcd2c5830",
   "metadata": {},
   "outputs": [],
   "source": [
    "essay=df['text'].tolist()\n",
    "from transformers import LongformerTokenizer\n",
    "tokenizer=LongformerTokenizer.from_pretrained('allenai/longformer-base-4096')\n",
    "# essay=df['text'].tolist()\n",
    "tokens=tokenizer(essay,return_tensors='pt',padding=True,truncation=True)"
   ]
  },
  {
   "cell_type": "code",
   "execution_count": 11,
   "id": "ea61526e-db8b-4eaf-ba16-ea4333b95323",
   "metadata": {},
   "outputs": [
    {
     "name": "stdout",
     "output_type": "stream",
     "text": [
      "Epoch 1/5\n",
      "301/301 [==============================] - 215s 712ms/step - loss: 0.1417 - accuracy: 0.9502 - val_loss: 0.0242 - val_accuracy: 0.9919\n",
      "Epoch 2/5\n",
      "301/301 [==============================] - 207s 686ms/step - loss: 0.0090 - accuracy: 0.9978 - val_loss: 0.0101 - val_accuracy: 0.9970\n",
      "Epoch 3/5\n",
      "301/301 [==============================] - 209s 694ms/step - loss: 0.0031 - accuracy: 0.9995 - val_loss: 0.0069 - val_accuracy: 0.9978\n",
      "Epoch 4/5\n",
      "301/301 [==============================] - 214s 711ms/step - loss: 0.0019 - accuracy: 0.9997 - val_loss: 0.0075 - val_accuracy: 0.9980\n",
      "Epoch 5/5\n",
      "301/301 [==============================] - 205s 680ms/step - loss: 8.4333e-04 - accuracy: 0.9999 - val_loss: 0.0093 - val_accuracy: 0.9980\n",
      "602/602 [==============================] - 10s 17ms/step - loss: 0.0093 - accuracy: 0.9980\n",
      "Epoch 1/5\n",
      "301/301 [==============================] - 205s 679ms/step - loss: 0.0047 - accuracy: 0.9987 - val_loss: 6.5066e-04 - val_accuracy: 0.9999\n",
      "Epoch 2/5\n",
      "301/301 [==============================] - 204s 677ms/step - loss: 0.0015 - accuracy: 0.9998 - val_loss: 6.9992e-04 - val_accuracy: 0.9998\n",
      "Epoch 3/5\n",
      "301/301 [==============================] - 205s 683ms/step - loss: 4.4869e-04 - accuracy: 1.0000 - val_loss: 5.9750e-04 - val_accuracy: 0.9998\n",
      "Epoch 4/5\n",
      "301/301 [==============================] - 204s 678ms/step - loss: 3.5867e-04 - accuracy: 0.9999 - val_loss: 5.2391e-04 - val_accuracy: 0.9999\n",
      "Epoch 5/5\n",
      "301/301 [==============================] - 204s 678ms/step - loss: 9.4610e-04 - accuracy: 0.9999 - val_loss: 6.1332e-04 - val_accuracy: 0.9998\n",
      "602/602 [==============================] - 10s 17ms/step - loss: 6.1332e-04 - accuracy: 0.9998\n",
      "Epoch 1/5\n",
      "301/301 [==============================] - 204s 679ms/step - loss: 7.1850e-04 - accuracy: 0.9999 - val_loss: 0.0032 - val_accuracy: 0.9997\n",
      "Epoch 2/5\n",
      "301/301 [==============================] - 205s 681ms/step - loss: 4.8602e-04 - accuracy: 0.9999 - val_loss: 8.1407e-04 - val_accuracy: 0.9999\n",
      "Epoch 3/5\n",
      "301/301 [==============================] - 204s 678ms/step - loss: 4.5094e-05 - accuracy: 1.0000 - val_loss: 8.1644e-04 - val_accuracy: 0.9999\n",
      "Epoch 4/5\n",
      "301/301 [==============================] - 204s 677ms/step - loss: 2.2285e-05 - accuracy: 1.0000 - val_loss: 8.4964e-04 - val_accuracy: 0.9999\n",
      "Epoch 5/5\n",
      "301/301 [==============================] - 204s 677ms/step - loss: 1.5650e-05 - accuracy: 1.0000 - val_loss: 8.6122e-04 - val_accuracy: 0.9999\n",
      "602/602 [==============================] - 10s 17ms/step - loss: 8.6122e-04 - accuracy: 0.9999\n",
      "Epoch 1/5\n",
      "301/301 [==============================] - 204s 677ms/step - loss: 0.0015 - accuracy: 0.9995 - val_loss: 7.9904e-04 - val_accuracy: 0.9998\n",
      "Epoch 2/5\n",
      "301/301 [==============================] - 202s 671ms/step - loss: 0.0021 - accuracy: 0.9994 - val_loss: 0.0011 - val_accuracy: 0.9999\n",
      "Epoch 3/5\n",
      "301/301 [==============================] - 202s 673ms/step - loss: 6.7878e-04 - accuracy: 0.9999 - val_loss: 0.0014 - val_accuracy: 0.9998\n",
      "Epoch 4/5\n",
      "301/301 [==============================] - 202s 671ms/step - loss: 1.2713e-04 - accuracy: 1.0000 - val_loss: 0.0016 - val_accuracy: 0.9998\n",
      "Epoch 5/5\n",
      "301/301 [==============================] - 208s 692ms/step - loss: 1.7854e-05 - accuracy: 1.0000 - val_loss: 0.0017 - val_accuracy: 0.9998\n",
      "602/602 [==============================] - 10s 17ms/step - loss: 0.0017 - accuracy: 0.9998\n",
      "Epoch 1/5\n",
      "301/301 [==============================] - 208s 692ms/step - loss: 0.0015 - accuracy: 0.9999 - val_loss: 4.2874e-05 - val_accuracy: 1.0000\n",
      "Epoch 2/5\n",
      "301/301 [==============================] - 203s 674ms/step - loss: 1.3982e-04 - accuracy: 1.0000 - val_loss: 3.4765e-05 - val_accuracy: 1.0000\n",
      "Epoch 3/5\n",
      "301/301 [==============================] - 203s 675ms/step - loss: 1.5577e-04 - accuracy: 1.0000 - val_loss: 9.2776e-05 - val_accuracy: 1.0000\n",
      "Epoch 4/5\n",
      "301/301 [==============================] - 203s 676ms/step - loss: 4.4665e-04 - accuracy: 0.9999 - val_loss: 2.5621e-05 - val_accuracy: 1.0000\n",
      "Epoch 5/5\n",
      "301/301 [==============================] - 214s 711ms/step - loss: 1.4743e-04 - accuracy: 1.0000 - val_loss: 6.5712e-05 - val_accuracy: 0.9999\n",
      "602/602 [==============================] - 12s 20ms/step - loss: 6.5712e-05 - accuracy: 0.9999\n",
      "Average accuracy:  0.9994907736778259\n"
     ]
    }
   ],
   "source": [
    "from tensorflow.keras.layers import Input, Embedding, Conv1D, GlobalMaxPooling1D, Dense, Dropout\n",
    "from tensorflow.keras.models import Model\n",
    "from tensorflow.keras.callbacks import EarlyStopping\n",
    "from sklearn.model_selection import KFold\n",
    "\n",
    "# Define your model\n",
    "input_length = None\n",
    "input_layer = Input(shape=(input_length,))\n",
    "embedding_layer = Embedding(input_dim=51000, output_dim=100, input_length=input_length)(input_layer)\n",
    "conv1d_layer = Conv1D(128, 5, activation='relu')(embedding_layer)\n",
    "maxpool_layer = GlobalMaxPooling1D()(conv1d_layer)\n",
    "dense_layer = Dense(64, activation='relu')(maxpool_layer)\n",
    "dropout_layer = Dropout(0.5)(dense_layer)\n",
    "output_layer = Dense(1, activation='sigmoid')(dropout_layer)\n",
    "\n",
    "model = Model(inputs=input_layer, outputs=output_layer)\n",
    "\n",
    "# Compile the model\n",
    "model.compile(optimizer='adam', loss='binary_crossentropy', metrics=['accuracy'])\n",
    "\n",
    "# Define early stopping callback\n",
    "early_stopping = EarlyStopping(monitor='val_loss', patience=5)\n",
    "\n",
    "# Define the k-fold cross-validation\n",
    "kfold = KFold(n_splits=5, shuffle=True, random_state=42)\n",
    "\n",
    "# Perform cross-validation\n",
    "accuracies = []\n",
    "for train_index, test_index in kfold.split(xtrain_np):\n",
    "    xtrain_cv, xtest_cv = xtrain_np[train_index], xtrain_np[test_index]\n",
    "    ytrain_cv, ytest_cv = ytrain.iloc[train_index], ytrain.iloc[test_index]\n",
    "\n",
    "    # Fit the model on the training data with validation data\n",
    "    model.fit(xtrain_cv, ytrain_cv, epochs=5, batch_size=256, \n",
    "              validation_data=(xtest_cv, ytest_cv), callbacks=[early_stopping])\n",
    "\n",
    "    # Evaluate the model on the testing data\n",
    "    loss, accuracy = model.evaluate(xtest_cv, ytest_cv)\n",
    "    accuracies.append(accuracy)\n",
    "\n",
    "# Print the average accuracy\n",
    "average_accuracy = sum(accuracies) / len(accuracies)\n",
    "print(\"Average accuracy: \", average_accuracy)\n"
   ]
  },
  {
   "cell_type": "code",
   "execution_count": 12,
   "id": "cc1ad2e7-8767-419d-8b97-bcfb261cf8e6",
   "metadata": {},
   "outputs": [],
   "source": [
    "model.save(\"newmodel.keras\")\n",
    "model.save_weights('newweights.keras')"
   ]
  },
  {
   "cell_type": "code",
   "execution_count": 16,
   "id": "2250ea03-9aa1-4096-9213-70bfa4839e93",
   "metadata": {},
   "outputs": [
    {
     "data": {
      "text/html": [
       "<div>\n",
       "<style scoped>\n",
       "    .dataframe tbody tr th:only-of-type {\n",
       "        vertical-align: middle;\n",
       "    }\n",
       "\n",
       "    .dataframe tbody tr th {\n",
       "        vertical-align: top;\n",
       "    }\n",
       "\n",
       "    .dataframe thead th {\n",
       "        text-align: right;\n",
       "    }\n",
       "</style>\n",
       "<table border=\"1\" class=\"dataframe\">\n",
       "  <thead>\n",
       "    <tr style=\"text-align: right;\">\n",
       "      <th></th>\n",
       "      <th>text</th>\n",
       "      <th>label</th>\n",
       "      <th>source</th>\n",
       "      <th>fold</th>\n",
       "    </tr>\n",
       "  </thead>\n",
       "  <tbody>\n",
       "    <tr>\n",
       "      <th>0</th>\n",
       "      <td>There are alot reasons to keep our the despise...</td>\n",
       "      <td>0</td>\n",
       "      <td>persuade_corpus</td>\n",
       "      <td>2</td>\n",
       "    </tr>\n",
       "    <tr>\n",
       "      <th>1</th>\n",
       "      <td>Driving smart cars that drive by themself has ...</td>\n",
       "      <td>0</td>\n",
       "      <td>persuade_corpus</td>\n",
       "      <td>4</td>\n",
       "    </tr>\n",
       "    <tr>\n",
       "      <th>2</th>\n",
       "      <td>Dear Principal,\\n\\nI believe that students at ...</td>\n",
       "      <td>0</td>\n",
       "      <td>persuade_corpus</td>\n",
       "      <td>0</td>\n",
       "    </tr>\n",
       "    <tr>\n",
       "      <th>3</th>\n",
       "      <td>Dear Principal,\\n\\nCommunity service should no...</td>\n",
       "      <td>0</td>\n",
       "      <td>persuade_corpus</td>\n",
       "      <td>0</td>\n",
       "    </tr>\n",
       "    <tr>\n",
       "      <th>4</th>\n",
       "      <td>My argument for the development of the driverl...</td>\n",
       "      <td>0</td>\n",
       "      <td>persuade_corpus</td>\n",
       "      <td>3</td>\n",
       "    </tr>\n",
       "    <tr>\n",
       "      <th>...</th>\n",
       "      <td>...</td>\n",
       "      <td>...</td>\n",
       "      <td>...</td>\n",
       "      <td>...</td>\n",
       "    </tr>\n",
       "    <tr>\n",
       "      <th>33254</th>\n",
       "      <td>Are driverless cars really necessary? Most of ...</td>\n",
       "      <td>0</td>\n",
       "      <td>persuade_corpus</td>\n",
       "      <td>4</td>\n",
       "    </tr>\n",
       "    <tr>\n",
       "      <th>33255</th>\n",
       "      <td>\"Oh man I didn't make the soccer team!\", yelle...</td>\n",
       "      <td>0</td>\n",
       "      <td>persuade_corpus</td>\n",
       "      <td>1</td>\n",
       "    </tr>\n",
       "    <tr>\n",
       "      <th>33256</th>\n",
       "      <td>I believe that using this technology could be ...</td>\n",
       "      <td>0</td>\n",
       "      <td>persuade_corpus</td>\n",
       "      <td>0</td>\n",
       "    </tr>\n",
       "    <tr>\n",
       "      <th>33257</th>\n",
       "      <td>Texting &amp; Driving\\n\\nUsing your phone while dr...</td>\n",
       "      <td>0</td>\n",
       "      <td>persuade_corpus</td>\n",
       "      <td>3</td>\n",
       "    </tr>\n",
       "    <tr>\n",
       "      <th>33258</th>\n",
       "      <td>Dear Principal,\\n\\nI have been really good thi...</td>\n",
       "      <td>0</td>\n",
       "      <td>persuade_corpus</td>\n",
       "      <td>4</td>\n",
       "    </tr>\n",
       "  </tbody>\n",
       "</table>\n",
       "<p>33259 rows × 4 columns</p>\n",
       "</div>"
      ],
      "text/plain": [
       "                                                    text  label  \\\n",
       "0      There are alot reasons to keep our the despise...      0   \n",
       "1      Driving smart cars that drive by themself has ...      0   \n",
       "2      Dear Principal,\\n\\nI believe that students at ...      0   \n",
       "3      Dear Principal,\\n\\nCommunity service should no...      0   \n",
       "4      My argument for the development of the driverl...      0   \n",
       "...                                                  ...    ...   \n",
       "33254  Are driverless cars really necessary? Most of ...      0   \n",
       "33255  \"Oh man I didn't make the soccer team!\", yelle...      0   \n",
       "33256  I believe that using this technology could be ...      0   \n",
       "33257  Texting & Driving\\n\\nUsing your phone while dr...      0   \n",
       "33258  Dear Principal,\\n\\nI have been really good thi...      0   \n",
       "\n",
       "                source  fold  \n",
       "0      persuade_corpus     2  \n",
       "1      persuade_corpus     4  \n",
       "2      persuade_corpus     0  \n",
       "3      persuade_corpus     0  \n",
       "4      persuade_corpus     3  \n",
       "...                ...   ...  \n",
       "33254  persuade_corpus     4  \n",
       "33255  persuade_corpus     1  \n",
       "33256  persuade_corpus     0  \n",
       "33257  persuade_corpus     3  \n",
       "33258  persuade_corpus     4  \n",
       "\n",
       "[33259 rows x 4 columns]"
      ]
     },
     "execution_count": 16,
     "metadata": {},
     "output_type": "execute_result"
    }
   ],
   "source": [
    "from tensorflow.keras.models import load_model\n",
    "ml=load_model(\"newmodel.keras\")\n",
    "data=pd.read_csv(r\"C:\\Users\\kumar\\Downloads\\train_drcat_01.csv\")\n",
    "data"
   ]
  },
  {
   "cell_type": "code",
   "execution_count": 17,
   "id": "69638c4d-4a2d-45b0-a062-066d6cf64fd5",
   "metadata": {},
   "outputs": [
    {
     "data": {
      "text/plain": [
       "text      0\n",
       "label     0\n",
       "source    0\n",
       "fold      0\n",
       "dtype: int64"
      ]
     },
     "execution_count": 17,
     "metadata": {},
     "output_type": "execute_result"
    }
   ],
   "source": [
    "data.isnull().sum()"
   ]
  },
  {
   "cell_type": "code",
   "execution_count": 19,
   "id": "0d919a20-4944-40e7-b9fe-782702bd573f",
   "metadata": {},
   "outputs": [],
   "source": [
    "data=data.drop([\"source\",\"fold\"],axis=1)"
   ]
  },
  {
   "cell_type": "code",
   "execution_count": 27,
   "id": "eb491473-c7d8-41c2-a6dd-6f0f54a5e3d7",
   "metadata": {},
   "outputs": [],
   "source": [
    "field=data['text'].tolist()\n",
    "from transformers import LongformerTokenizer\n",
    "tokenizer1=LongformerTokenizer.from_pretrained('allenai/longformer-base-4096')\n",
    "values=tokenizer1(field,return_tensors='pt',padding=True,truncation=True)"
   ]
  },
  {
   "cell_type": "code",
   "execution_count": 29,
   "id": "044afbad-f80f-433e-84a4-f8f91aca1267",
   "metadata": {},
   "outputs": [],
   "source": [
    "import numpy as np\n",
    "tokens_numpy = values['input_ids'].detach().cpu().numpy()"
   ]
  },
  {
   "cell_type": "code",
   "execution_count": 46,
   "id": "ce83f68f-b7bb-47d2-a6d7-13d110a827f0",
   "metadata": {},
   "outputs": [
    {
     "name": "stdout",
     "output_type": "stream",
     "text": [
      "1040/1040 [==============================] - 47s 45ms/step - loss: 0.0051 - accuracy: 0.9989\n",
      "Loss: 0.0051248399540781975\n",
      "Accuracy: 0.9989476799964905\n"
     ]
    }
   ],
   "source": [
    "xnew=values['input_ids'].numpy()\n",
    "ynew=data['label']\n",
    "xtrain_new,xtest_new,ytrain_new,ytest_new=train_test_split(x,y,test_size=0.8,random_state=42)\n",
    "ynew_np=np.array(ynew)\n",
    "\n",
    "loss, accuracy = ml.evaluate(xnew, ynew_np)\n",
    "print(\"Loss:\", loss)\n",
    "print(\"Accuracy:\", accuracy)"
   ]
  }
 ],
 "metadata": {
  "kernelspec": {
   "display_name": "Python 3 (ipykernel)",
   "language": "python",
   "name": "python3"
  },
  "language_info": {
   "codemirror_mode": {
    "name": "ipython",
    "version": 3
   },
   "file_extension": ".py",
   "mimetype": "text/x-python",
   "name": "python",
   "nbconvert_exporter": "python",
   "pygments_lexer": "ipython3",
   "version": "3.11.7"
  }
 },
 "nbformat": 4,
 "nbformat_minor": 5
}
