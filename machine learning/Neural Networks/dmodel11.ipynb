{
 "cells": [
  {
   "cell_type": "code",
   "execution_count": 1,
   "id": "3dd7b34a-ffd4-4c28-8bbf-ecc85257717d",
   "metadata": {},
   "outputs": [
    {
     "name": "stdout",
     "output_type": "stream",
     "text": [
      "WARNING:tensorflow:From A:\\anaconda\\Lib\\site-packages\\keras\\src\\losses.py:2976: The name tf.losses.sparse_softmax_cross_entropy is deprecated. Please use tf.compat.v1.losses.sparse_softmax_cross_entropy instead.\n",
      "\n",
      "(30580, 2)\n"
     ]
    }
   ],
   "source": [
    "import pandas as pd\n",
    "import tensorflow as tf\n",
    "from sklearn.model_selection import train_test_split\n",
    "from keras.models import Sequential\n",
    "from keras.layers import Dense,LSTM,Embedding\n",
    "from keras.preprocessing.sequence import pad_sequences\n",
    "filepath=[r\"B:\\project\\human\\human_chunk_11.csv\",r\"B:\\project\\ai\\ai_chunk_11.csv\"]\n",
    "dfs = [pd.read_csv(filepath) for filepath in filepath]\n",
    "df = pd.concat(dfs, ignore_index=True)\n",
    "print(df.shape)"
   ]
  },
  {
   "cell_type": "code",
   "execution_count": 2,
   "id": "dec04ac7-87bc-4c55-8569-653bd93f514f",
   "metadata": {},
   "outputs": [],
   "source": [
    "essay=df['text'].tolist()\n",
    "from transformers import LongformerTokenizer\n",
    "tokenizer=LongformerTokenizer.from_pretrained('allenai/longformer-base-4096')\n",
    "essay=df['text'].tolist()\n",
    "tokens=tokenizer(essay,return_tensors='pt',padding=True,truncation=True)"
   ]
  },
  {
   "cell_type": "code",
   "execution_count": 3,
   "id": "9a294d8b-6f97-4885-9c5a-d57004a0e428",
   "metadata": {},
   "outputs": [],
   "source": [
    "x=tokens['input_ids']\n",
    "y=df['generated']\n",
    "xtrain,xtest,ytrain,ytest=train_test_split(x,y,test_size=0.2,random_state=42)\n",
    "# input_ids_size = tokens['input_ids'].size()\n",
    "# attention_mask_size = tokens['attention_mask'].size()\n",
    "# print(\"Input IDs size:\", input_ids_size)\n",
    "# print(\"Attention Mask size:\", attention_mask_size)\n",
    "# # Assuming 'tokens' is the result of tokenizer\n",
    "# unique_tokens = set(token.item() for seq in tokens['input_ids'] for token in seq)\n",
    "# vocabulary_size = len(unique_tokens)\n",
    "\n",
    "# print(\"Vocabulary Size:\", vocabulary_size)\n",
    "# # Assuming 'input_ids' is the first element in xtrain\n",
    "# max_sequence_length_x = max(len(seq) for seq in xtrain)\n",
    "\n",
    "# # Print or use the max_sequence_length_x in your pad_sequences and Embedding layer\n",
    "# print(\"Max Sequence Length:\", max_sequence_length_x)\n"
   ]
  },
  {
   "cell_type": "code",
   "execution_count": 4,
   "id": "e0d8c9e6-787b-438e-a020-d3dea5c0c771",
   "metadata": {},
   "outputs": [
    {
     "name": "stdout",
     "output_type": "stream",
     "text": [
      "WARNING:tensorflow:From A:\\anaconda\\Lib\\site-packages\\keras\\src\\backend.py:1398: The name tf.executing_eagerly_outside_functions is deprecated. Please use tf.compat.v1.executing_eagerly_outside_functions instead.\n",
      "\n",
      "WARNING:tensorflow:From A:\\anaconda\\Lib\\site-packages\\keras\\src\\optimizers\\__init__.py:309: The name tf.train.Optimizer is deprecated. Please use tf.compat.v1.train.Optimizer instead.\n",
      "\n",
      "Epoch 1/5\n",
      "WARNING:tensorflow:From A:\\anaconda\\Lib\\site-packages\\keras\\src\\utils\\tf_utils.py:492: The name tf.ragged.RaggedTensorValue is deprecated. Please use tf.compat.v1.ragged.RaggedTensorValue instead.\n",
      "\n",
      "WARNING:tensorflow:From A:\\anaconda\\Lib\\site-packages\\keras\\src\\engine\\base_layer_utils.py:384: The name tf.executing_eagerly_outside_functions is deprecated. Please use tf.compat.v1.executing_eagerly_outside_functions instead.\n",
      "\n",
      "96/96 [==============================] - 64s 652ms/step - loss: 0.3798 - accuracy: 0.8566\n",
      "Epoch 2/5\n",
      "96/96 [==============================] - 64s 671ms/step - loss: 0.0490 - accuracy: 0.9860\n",
      "Epoch 3/5\n",
      "96/96 [==============================] - 74s 772ms/step - loss: 0.0174 - accuracy: 0.9963\n",
      "Epoch 4/5\n",
      "96/96 [==============================] - 70s 730ms/step - loss: 0.0063 - accuracy: 0.9990\n",
      "Epoch 5/5\n",
      "96/96 [==============================] - 69s 721ms/step - loss: 0.0035 - accuracy: 0.9993\n"
     ]
    },
    {
     "data": {
      "text/plain": [
       "<keras.src.callbacks.History at 0x1734c10bb50>"
      ]
     },
     "execution_count": 4,
     "metadata": {},
     "output_type": "execute_result"
    }
   ],
   "source": [
    "from tensorflow.keras.layers import Input, Embedding, Conv1D, GlobalMaxPooling1D, Dense, Dropout\n",
    "from tensorflow.keras.models import Model\n",
    "xtrain_np=xtrain.numpy()\n",
    "input_length = None\n",
    "input_layer = Input(shape=(input_length,))\n",
    "embedding_layer = Embedding(input_dim=51000, output_dim=100, input_length=input_length)(input_layer)\n",
    "conv1d_layer = Conv1D(128, 5, activation='relu')(embedding_layer)\n",
    "maxpool_layer = GlobalMaxPooling1D()(conv1d_layer)\n",
    "dense_layer = Dense(64, activation='relu')(maxpool_layer)\n",
    "dropout_layer = Dropout(0.5)(dense_layer)\n",
    "output_layer = Dense(1, activation='sigmoid')(dropout_layer)\n",
    "\n",
    "model = Model(inputs=input_layer, outputs=output_layer)\n",
    "\n",
    "model.compile(optimizer='adam', loss='binary_crossentropy', metrics=['accuracy'])\n",
    "\n",
    "# Assuming xtrain_np and ytrain are NumPy arrays\n",
    "model.fit(xtrain_np, ytrain, epochs=5, batch_size=256)\n"
   ]
  },
  {
   "cell_type": "code",
   "execution_count": 5,
   "id": "7910ff4b-b6db-42ec-b008-3975b3d07465",
   "metadata": {},
   "outputs": [
    {
     "name": "stdout",
     "output_type": "stream",
     "text": [
      "192/192 [==============================] - 4s 19ms/step - loss: 0.0276 - accuracy: 0.9913\n"
     ]
    },
    {
     "data": {
      "text/plain": [
       "[0.027613628655672073, 0.9913341999053955]"
      ]
     },
     "execution_count": 5,
     "metadata": {},
     "output_type": "execute_result"
    }
   ],
   "source": [
    "xtest_np=xtest.numpy()\n",
    "model.evaluate(xtest_np,ytest)"
   ]
  },
  {
   "cell_type": "code",
   "execution_count": 6,
   "id": "deb568ab-6df3-4a27-8782-ee0782cb98a2",
   "metadata": {},
   "outputs": [],
   "source": [
    "model.save(\"dmodel11.keras\")\n",
    "model.save_weights('dmodel11_weights.keras')"
   ]
  },
  {
   "cell_type": "code",
   "execution_count": 7,
   "id": "51e68228-87ca-443d-9645-226ec6f85db4",
   "metadata": {},
   "outputs": [],
   "source": [
    "x=tokens['input_ids']\n",
    "y=df['generated']\n",
    "xtrain,xtest,ytrain,ytest=train_test_split(x,y,test_size=0.2,random_state=42)\n",
    "xtrain_np=xtrain.numpy()\n",
    "xtest_np=xtest.numpy()\n",
    "xtrain_np11=xtrain_np\n",
    "xtest_np11=xtest_np\n",
    "import numpy as np\n",
    "xtrain_np11 = np.array(xtrain_np11)\n",
    "xtest_np11=np.array(xtest_np11)\n",
    "np.savetxt('B:/project/test/xtest_np11.csv', xtest_np11, delimiter=',')\n",
    "np.savetxt('B:/project/train/xtrain_np11.csv', xtrain_np11, delimiter=',')\n",
    "ytest.to_csv(\"B:/project/ytest/ytest11.csv\")"
   ]
  },
  {
   "cell_type": "code",
   "execution_count": 8,
   "id": "31c5e4f8-6728-4056-a2a1-49a55a5f5b09",
   "metadata": {},
   "outputs": [],
   "source": [
    "x=tokens['input_ids']\n",
    "y=df['generated']\n",
    "xtrain,xtest,ytrain,ytest=train_test_split(x,y,test_size=0.2,random_state=42)\n",
    "ytrain.to_csv(\"B:/project/ytrain/ytrain11.csv\")\n"
   ]
  }
 ],
 "metadata": {
  "kernelspec": {
   "display_name": "Python 3 (ipykernel)",
   "language": "python",
   "name": "python3"
  },
  "language_info": {
   "codemirror_mode": {
    "name": "ipython",
    "version": 3
   },
   "file_extension": ".py",
   "mimetype": "text/x-python",
   "name": "python",
   "nbconvert_exporter": "python",
   "pygments_lexer": "ipython3",
   "version": "3.11.7"
  }
 },
 "nbformat": 4,
 "nbformat_minor": 5
}
