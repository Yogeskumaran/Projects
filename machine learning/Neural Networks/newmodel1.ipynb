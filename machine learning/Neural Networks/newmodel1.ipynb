{
 "cells": [
  {
   "cell_type": "code",
   "execution_count": 1,
   "id": "e83b47d9-538d-42be-81bb-aaab1a7dd06a",
   "metadata": {},
   "outputs": [
    {
     "name": "stdout",
     "output_type": "stream",
     "text": [
      "WARNING:tensorflow:From A:\\anaconda\\Lib\\site-packages\\keras\\src\\losses.py:2976: The name tf.losses.sparse_softmax_cross_entropy is deprecated. Please use tf.compat.v1.losses.sparse_softmax_cross_entropy instead.\n",
      "\n"
     ]
    },
    {
     "data": {
      "text/html": [
       "<div>\n",
       "<style scoped>\n",
       "    .dataframe tbody tr th:only-of-type {\n",
       "        vertical-align: middle;\n",
       "    }\n",
       "\n",
       "    .dataframe tbody tr th {\n",
       "        vertical-align: top;\n",
       "    }\n",
       "\n",
       "    .dataframe thead th {\n",
       "        text-align: right;\n",
       "    }\n",
       "</style>\n",
       "<table border=\"1\" class=\"dataframe\">\n",
       "  <thead>\n",
       "    <tr style=\"text-align: right;\">\n",
       "      <th></th>\n",
       "      <th>text</th>\n",
       "      <th>generated</th>\n",
       "    </tr>\n",
       "  </thead>\n",
       "  <tbody>\n",
       "    <tr>\n",
       "      <th>0</th>\n",
       "      <td>Cars. Cars have been around since they became ...</td>\n",
       "      <td>0.0</td>\n",
       "    </tr>\n",
       "    <tr>\n",
       "      <th>1</th>\n",
       "      <td>Transportation is a large necessity in most co...</td>\n",
       "      <td>0.0</td>\n",
       "    </tr>\n",
       "    <tr>\n",
       "      <th>2</th>\n",
       "      <td>\"America's love affair with it's vehicles seem...</td>\n",
       "      <td>0.0</td>\n",
       "    </tr>\n",
       "    <tr>\n",
       "      <th>3</th>\n",
       "      <td>How often do you ride in a car? Do you drive a...</td>\n",
       "      <td>0.0</td>\n",
       "    </tr>\n",
       "    <tr>\n",
       "      <th>4</th>\n",
       "      <td>Cars are a wonderful thing. They are perhaps o...</td>\n",
       "      <td>0.0</td>\n",
       "    </tr>\n",
       "    <tr>\n",
       "      <th>...</th>\n",
       "      <td>...</td>\n",
       "      <td>...</td>\n",
       "    </tr>\n",
       "    <tr>\n",
       "      <th>17983</th>\n",
       "      <td>Losing a privilege to drive a car is a risk. S...</td>\n",
       "      <td>0.0</td>\n",
       "    </tr>\n",
       "    <tr>\n",
       "      <th>17984</th>\n",
       "      <td>There can be many advanteges and disadvanteges...</td>\n",
       "      <td>0.0</td>\n",
       "    </tr>\n",
       "    <tr>\n",
       "      <th>17985</th>\n",
       "      <td>What is the point of driving a car now and day...</td>\n",
       "      <td>0.0</td>\n",
       "    </tr>\n",
       "    <tr>\n",
       "      <th>17986</th>\n",
       "      <td>more people die in car related accidnts then a...</td>\n",
       "      <td>0.0</td>\n",
       "    </tr>\n",
       "    <tr>\n",
       "      <th>17987</th>\n",
       "      <td>As the years go by there had seemed to be more...</td>\n",
       "      <td>0.0</td>\n",
       "    </tr>\n",
       "  </tbody>\n",
       "</table>\n",
       "<p>17988 rows × 2 columns</p>\n",
       "</div>"
      ],
      "text/plain": [
       "                                                    text  generated\n",
       "0      Cars. Cars have been around since they became ...        0.0\n",
       "1      Transportation is a large necessity in most co...        0.0\n",
       "2      \"America's love affair with it's vehicles seem...        0.0\n",
       "3      How often do you ride in a car? Do you drive a...        0.0\n",
       "4      Cars are a wonderful thing. They are perhaps o...        0.0\n",
       "...                                                  ...        ...\n",
       "17983  Losing a privilege to drive a car is a risk. S...        0.0\n",
       "17984  There can be many advanteges and disadvanteges...        0.0\n",
       "17985  What is the point of driving a car now and day...        0.0\n",
       "17986  more people die in car related accidnts then a...        0.0\n",
       "17987  As the years go by there had seemed to be more...        0.0\n",
       "\n",
       "[17988 rows x 2 columns]"
      ]
     },
     "execution_count": 1,
     "metadata": {},
     "output_type": "execute_result"
    }
   ],
   "source": [
    "import pandas as pd\n",
    "import tensorflow as tf\n",
    "from sklearn.model_selection import train_test_split\n",
    "from keras.models import Sequential\n",
    "from keras.layers import Dense,LSTM,Embedding\n",
    "from keras.preprocessing.sequence import pad_sequences\n",
    "df=pd.read_csv(r\"B:\\project\\newdataset\\chunk_1.csv\")\n",
    "df = df.drop(columns=['Unnamed: 0'])\n",
    "df"
   ]
  },
  {
   "cell_type": "code",
   "execution_count": 2,
   "id": "13df60f6-32cf-4aca-9887-99b43dda1bc4",
   "metadata": {},
   "outputs": [],
   "source": [
    "from transformers import LongformerTokenizer\n",
    "tokenizer=LongformerTokenizer.from_pretrained('allenai/longformer-base-4096')\n",
    "essays=df['text'].tolist()\n",
    "tokens=tokenizer(essays,return_tensors='pt',padding=True,truncation=True)"
   ]
  },
  {
   "cell_type": "code",
   "execution_count": 3,
   "id": "df5e06d5-fe09-4a3d-8066-dba8de475dbc",
   "metadata": {},
   "outputs": [
    {
     "name": "stdout",
     "output_type": "stream",
     "text": [
      "Input IDs size: torch.Size([17988, 4096])\n",
      "Attention Mask size: torch.Size([17988, 4096])\n",
      "Vocabulary Size: 29593\n",
      "Max Sequence Length: 4096\n"
     ]
    }
   ],
   "source": [
    "x=tokens['input_ids']\n",
    "y=df['generated']\n",
    "xtrain,xtest,ytrain,ytest=train_test_split(x,y,test_size=0.2,random_state=42)\n",
    "input_ids_size = tokens['input_ids'].size()\n",
    "attention_mask_size = tokens['attention_mask'].size()\n",
    "print(\"Input IDs size:\", input_ids_size)\n",
    "print(\"Attention Mask size:\", attention_mask_size)\n",
    "# Assuming 'tokens' is the result of tokenizer\n",
    "unique_tokens = set(token.item() for seq in tokens['input_ids'] for token in seq)\n",
    "vocabulary_size = len(unique_tokens)\n",
    "\n",
    "print(\"Vocabulary Size:\", vocabulary_size)\n",
    "# Assuming 'input_ids' is the first element in xtrain\n",
    "max_sequence_length_x = max(len(seq) for seq in xtrain)\n",
    "\n",
    "# Print or use the max_sequence_length_x in your pad_sequences and Embedding layer\n",
    "print(\"Max Sequence Length:\", max_sequence_length_x)\n"
   ]
  },
  {
   "cell_type": "code",
   "execution_count": 7,
   "id": "80501cef-6050-4ad6-b056-f41ed9d66e33",
   "metadata": {},
   "outputs": [
    {
     "name": "stdout",
     "output_type": "stream",
     "text": [
      "Epoch 1/5\n",
      "450/450 [==============================] - 942s 2s/step - loss: 0.0137 - accuracy: 1.0000\n",
      "Epoch 2/5\n",
      "450/450 [==============================] - 1823s 4s/step - loss: 2.9943e-05 - accuracy: 1.0000\n",
      "Epoch 3/5\n",
      "450/450 [==============================] - 1404s 3s/step - loss: 1.5875e-05 - accuracy: 1.0000\n",
      "Epoch 4/5\n",
      "450/450 [==============================] - 908s 2s/step - loss: 1.0002e-05 - accuracy: 1.0000\n",
      "Epoch 5/5\n",
      "450/450 [==============================] - 981s 2s/step - loss: 6.8285e-06 - accuracy: 1.0000\n"
     ]
    },
    {
     "data": {
      "text/plain": [
       "<keras.src.callbacks.History at 0x22da7437850>"
      ]
     },
     "execution_count": 7,
     "metadata": {},
     "output_type": "execute_result"
    }
   ],
   "source": [
    "model=Sequential()\n",
    "input_length=4096\n",
    "xtrain_np=xtrain.numpy()\n",
    "model.add(Embedding(input_dim=55000,output_dim=120,input_length=input_length))\n",
    "model.add(LSTM(64))\n",
    "model.add(Dense(1,activation='sigmoid'))\n",
    "model.compile(optimizer='adam',loss='binary_crossentropy',metrics=['accuracy'])\n",
    "model.fit(xtrain_np,ytrain,epochs=5,batch_size=32)"
   ]
  },
  {
   "cell_type": "code",
   "execution_count": 11,
   "id": "a6d88299-a8a6-49b7-9ac4-e4ce692b0fea",
   "metadata": {},
   "outputs": [],
   "source": [
    "xtest_np=xtest.numpy()"
   ]
  },
  {
   "cell_type": "code",
   "execution_count": 12,
   "id": "09dd110c-bc71-44a5-855c-da1fbd69dad5",
   "metadata": {},
   "outputs": [
    {
     "name": "stdout",
     "output_type": "stream",
     "text": [
      "113/113 [==============================] - 48s 420ms/step - loss: 5.7089e-06 - accuracy: 1.0000\n"
     ]
    },
    {
     "data": {
      "text/plain": [
       "[5.708879598387284e-06, 1.0]"
      ]
     },
     "execution_count": 12,
     "metadata": {},
     "output_type": "execute_result"
    }
   ],
   "source": [
    "model.evaluate(xtest_np,ytest)\n"
   ]
  },
  {
   "cell_type": "code",
   "execution_count": 13,
   "id": "be43e468-b368-4b80-a5e2-ba5dbafc7074",
   "metadata": {},
   "outputs": [],
   "source": [
    "model.save(\"newmodel1.keras\")"
   ]
  },
  {
   "cell_type": "code",
   "execution_count": 16,
   "id": "37c9b891-2fb0-45cc-a7b1-3271908deb24",
   "metadata": {},
   "outputs": [
    {
     "name": "stdout",
     "output_type": "stream",
     "text": [
      "1/1 [==============================] - 0s 393ms/step\n",
      "[[6.095884e-06]]\n",
      "0: It is Human-generated text\n"
     ]
    }
   ],
   "source": [
    "from keras.models import load_model\n",
    "ml=load_model('newmodel1.keras')\n",
    "xnew='Attending a four year high school has significant benefits that cannot be overlooked While some students may argue that attending a three year high school is just as beneficial there are several reasons why a four year high school is the better option Firstly attending a four year high school allows students to take more advanced courses Three year high schools may not offer the same level of advanced courses as four year high schools This means that students may not be able to take courses that are necessary for their future careers For example many colleges require students to take advanced math and science courses in high school and three year high schools may not offer these courses Secondly attending a four year high school allows students to participate in more extracurricular activities Many four year high schools offer a wider range of extracurricular activities than three year high schools This means that students can participate in activities that they are passionate about such as sports music or clubs These activities can also help students develop important skills such as teamwork leadership and communication Thirdly attending a four year high school can help students prepare for college Many colleges require students to take standardized tests such as the SAT or ACT in order to be considered for admission Four year high schools typically offer more resources and support to help students prepare for these tests This means that students who attend a four year high school may have a better chance of getting into their desired college Finally attending a four year high school can provide students with a more structured and supportive environment Four year high schools typically have larger student bodies than three year high schools which means that students can meet more people and make more friends Additionally four year high schools often have more resources such as counselors and tutors to help students with their academic and personal needs In conclusion attending a four year high school has significant benefits that cannot be overlooked From advanced courses to extracurricular activities college preparation and a supportive environment a four year high school can provide students with the tools they need to succeed in the future While some may argue that attending a three year high school is just as beneficial the evidence suggests that a four year high school is the better option'\n",
    "xnew_tokens = tokenizer.encode(xnew,truncation=True,padding=True,return_tensors=\"np\")\n",
    "max_sequence_length = 4096\n",
    "xnew_padded = pad_sequences(xnew_tokens,maxlen=max_sequence_length ,padding='post', truncating='post')\n",
    "prediction = ml.predict(xnew_padded)\n",
    "print(prediction)\n",
    "# Set a threshold for classification\n",
    "threshold = 0.5\n",
    "prediction_value = prediction[0, 0]\n",
    "\n",
    "# Check the prediction and print the result\n",
    "if prediction_value >= threshold:\n",
    "    print(\"1: It is an AI-generated text\")\n",
    "else:\n",
    "    print(\"0: It is Human-generated text\")"
   ]
  }
 ],
 "metadata": {
  "kernelspec": {
   "display_name": "Python 3 (ipykernel)",
   "language": "python",
   "name": "python3"
  },
  "language_info": {
   "codemirror_mode": {
    "name": "ipython",
    "version": 3
   },
   "file_extension": ".py",
   "mimetype": "text/x-python",
   "name": "python",
   "nbconvert_exporter": "python",
   "pygments_lexer": "ipython3",
   "version": "3.11.7"
  }
 },
 "nbformat": 4,
 "nbformat_minor": 5
}
