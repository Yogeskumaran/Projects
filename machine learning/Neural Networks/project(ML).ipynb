{
 "cells": [
  {
   "cell_type": "code",
   "execution_count": null,
   "id": "17839c1a-68fe-4ab9-a176-a85670c31121",
   "metadata": {},
   "outputs": [],
   "source": [
    "import pandas as pd\n",
    "from sklearn.model_selection import train_test_split\n",
    "from sklearn.svm import SVC\n",
    "from sklearn.linear_model import LogisticRegression\n",
    "from sklearn.ensemble import RandomForestClassifier, GradientBoostingClassifier, VotingClassifier\n",
    "from sklearn.metrics import accuracy_score, classification_report,precision_score, recall_score, f1_score, confusion_matrix\n",
    "from sklearn.feature_extraction.text import TfidfVectorizer"
   ]
  },
  {
   "cell_type": "code",
   "execution_count": null,
   "id": "c779fe36-109a-43d5-81ba-d9c76289b838",
   "metadata": {},
   "outputs": [],
   "source": [
    "df=pd.read_csv(r\"C:\\Users\\kumar\\Downloads\\train_drcat_01.csv\")\n",
    "df=df.drop(['source','fold'],axis=1)\n",
    "df"
   ]
  },
  {
   "cell_type": "code",
   "execution_count": null,
   "id": "d9a0af1b-7dad-4107-bcc4-35cf7e560059",
   "metadata": {},
   "outputs": [],
   "source": [
    "df.isnull().sum()"
   ]
  },
  {
   "cell_type": "code",
   "execution_count": 14,
   "id": "eeb9be29-d5c4-4b48-877c-96366ac52bb2",
   "metadata": {},
   "outputs": [],
   "source": [
    "x = df['text']\n",
    "y = df['label']\n",
    "x_train, x_test, y_train, y_test = train_test_split(x, y, test_size=0.2, random_state=42)\n",
    "tfidf_vectorizer = TfidfVectorizer()\n",
    "x_train_tfidf = tfidf_vectorizer.fit_transform(x_train)\n",
    "x_test_tfidf = tfidf_vectorizer.transform(x_test)\n",
    "rf_classifier = RandomForestClassifier(n_estimators=100, random_state=42)\n",
    "# svm_classifier = SVC(kernel='linear', probability=True, random_state=42)\n",
    "# lr_classifier = LogisticRegression(random_state=42)\n",
    "# gr_classifier=GradientBoostingClassifier(max_depth=2,n_estimators=5,learning_rate=1)\n",
    "# model = VotingClassifier(estimators=[('random_forest,', rf_classifier),('svm', svm_classifier),('logistic_regression', lr_classifier),('GradientBoosting',gr_classifier)], voting='soft')\n",
    "# model = VotingClassifier(estimators=[('svm', svm_classifier),('GradientBoosting',gr_classifier)], voting='soft')\n",
    "model = VotingClassifier(estimators=[('GradientBoosting',gr_classifier)], voting='soft')\n",
    "\n",
    "model.fit(x_train_tfidf, y_train)\n",
    "predictions_ensemble = model.predict(x_test_tfidf)\n"
   ]
  },
  {
   "cell_type": "code",
   "execution_count": 15,
   "id": "c053ab4b-a2cf-4be4-b4fd-a7b9815097a5",
   "metadata": {},
   "outputs": [
    {
     "name": "stdout",
     "output_type": "stream",
     "text": [
      "Accuracy Ensemble: 0.944377630787733\n",
      "Precision Ensemble: 0.9197431781701445\n",
      "Recall Ensemble: 0.809322033898305\n",
      "F1 Score Ensemble: 0.8610067618332081\n",
      "Confusion Matrix Ensemble:\n",
      "[[5136  100]\n",
      " [ 270 1146]]\n"
     ]
    }
   ],
   "source": [
    "accuracy_ensemble = accuracy_score(y_test, predictions_ensemble)\n",
    "precision_ensemble = precision_score(y_test, predictions_ensemble)\n",
    "recall_ensemble = recall_score(y_test, predictions_ensemble)\n",
    "f1_ensemble = f1_score(y_test, predictions_ensemble)\n",
    "conf_matrix_ensemble = confusion_matrix(y_test, predictions_ensemble)\n",
    "print(\"Accuracy Ensemble:\", accuracy_ensemble)\n",
    "print(\"Precision Ensemble:\", precision_ensemble)\n",
    "print(\"Recall Ensemble:\", recall_ensemble)\n",
    "print(\"F1 Score Ensemble:\", f1_ensemble)\n",
    "print(\"Confusion Matrix Ensemble:\")\n",
    "print(conf_matrix_ensemble)"
   ]
  },
  {
   "cell_type": "code",
   "execution_count": 10,
   "id": "e61bf70d-189b-4d33-b67c-105c1c1567aa",
   "metadata": {},
   "outputs": [
    {
     "data": {
      "text/plain": [
       "['project.pkl']"
      ]
     },
     "execution_count": 10,
     "metadata": {},
     "output_type": "execute_result"
    }
   ],
   "source": [
    "import joblib\n",
    "\n",
    "# Assuming 'model' is your scikit-learn model\n",
    "joblib.dump(model, 'project.pkl')\n"
   ]
  },
  {
   "cell_type": "code",
   "execution_count": 11,
   "id": "53c65c90-1e33-432e-b1ea-9953b94fe363",
   "metadata": {},
   "outputs": [],
   "source": [
    "import joblib\n",
    "\n",
    "# Load the model\n",
    "model = joblib.load('project.pkl')\n",
    "\n",
    "# Now, 'loaded_model' contains your previously trained scikit-learn model\n"
   ]
  },
  {
   "cell_type": "code",
   "execution_count": 14,
   "id": "3bc91eda-6085-4d1d-bfa5-df71b560b73f",
   "metadata": {},
   "outputs": [
    {
     "name": "stdout",
     "output_type": "stream",
     "text": [
      "Predicted Label: 0\n",
      "The model predicts that the text is human-generated.\n"
     ]
    }
   ],
   "source": [
    "input_sentence = \"Limiting car usage has many advantages. It would have advantages like less pollution in the atmosphere, congestion between the streets would be reduced, and people would be more interactive with the outside world. The limitation of car usage has showed many improvement all over the world.\"\n",
    "\n",
    "# Transform the input sentence using the same TF-IDF vectorizer\n",
    "input_tfidf = tfidf_vectorizer.transform([input_sentence])\n",
    "\n",
    "# Use the VotingClassifier to make predictions\n",
    "predictions = model.predict(input_tfidf)\n",
    "print(\"Predicted Label:\", predictions[0])\n",
    "\n",
    "if predictions[0] == 0:\n",
    "    print(\"The model predicts that the text is human-generated.\")\n",
    "elif predictions[0] == 1:\n",
    "    print(\"The model predicts that the text is AI-generated.\")\n",
    "else:\n",
    "    print(\"Invalid prediction label.\")\n"
   ]
  },
  {
   "cell_type": "code",
   "execution_count": 25,
   "id": "4e237d15-69c4-406d-b957-a59d9c1075c7",
   "metadata": {},
   "outputs": [],
   "source": [
    "import re\n",
    "def normalize(text):\n",
    "    text = text.replace(\"\\n\", \" \").replace(\"\\r\", \" \")\n",
    "    text = re.sub(r\"[^\\w\\s]\", \" \", text)\n",
    "    text = re.sub(r\"\\s+\", \" \", text)\n",
    "    text = text.strip()\n",
    "    return text\n",
    "df['text'] = df['text'].apply(lambda x: normalize(x))\n",
    "file_path = r\"C:\\Users\\kumar\\Downloads\\normalized_data.csv\"\n",
    "df.to_csv(file_path, index=False)"
   ]
  },
  {
   "cell_type": "code",
   "execution_count": 15,
   "id": "9346657d-7211-476b-9759-417fd57a2da8",
   "metadata": {},
   "outputs": [
    {
     "name": "stdout",
     "output_type": "stream",
     "text": [
      "Predicted Label: 1\n",
      "The model predicts that the text is AI-generated.\n"
     ]
    }
   ],
   "source": [
    "# input_sentence = \"Dear Senator,I am writing to you today to express my strong support for abolishing the Electoral College and electing the President of the United States by popular vote. As you know, the Electoral College is a body of electors established by the United States Constitution, constituted every four years for the sole purpose of electing the president and Vice President of the United States. The electors are chosen by each state, in a manner directed by the legislature thereof. Each state's number of electors is equal to the number of seats it has in the U.S. House of Representatives plus its two senators.The Electoral College was created at the 1787 Constitutional Convention as part of a compromise between those who wanted popular elections for president and those who wanted the president to be chosen by Congress. The Electoral College system gives more power to smaller states, as each state has a minimum of three electors regardless of its population. This means that a voter in Wyoming has more power than a voter in California, as their vote is worth more in terms of electoral votes.The Electoral College has been criticized for several reasons. One criticism is that it is undemocratic, as it is possible for a candidate to win the popular vote but lose the election. This has happened five times in American history, most recently in 2016. Another criticism is that the Electoral College encourages candidates to focus on a few \"\"swing states\"\" that are considered to be up for grabs, rather than campaigning in all 50 states.I believe that the Electoral College is an outdated and undemocratic system that should be abolished. I urge you to support a constitutional amendment that would elect the President of the United States by popular vote.Thank you for your time and consideration.Sincerely,[Your Name]\"\n",
    "# input_sentence = \"Limiting car usage has many advantages. It would have advantages like less pollution in the atmosphere, congestion between the streets would be reduced, and people would be more interactive with the outside world. The limitation of car usage has showed many improvement all over the world.\"\n",
    "input_sentence='computer science is the field of science'\n",
    "# Transform the input sentence using the same TF-IDF vectorizer\n",
    "input_tfidf = tfidf_vectorizer.transform([input_sentence])\n",
    "\n",
    "# Use the VotingClassifier to make predictions\n",
    "predictions = model.predict(input_tfidf)\n",
    "print(\"Predicted Label:\", predictions[0])\n",
    "\n",
    "if predictions[0] == 0:\n",
    "    print(\"The model predicts that the text is human-generated.\")\n",
    "elif predictions[0] == 1:\n",
    "    print(\"The model predicts that the text is AI-generated.\")\n",
    "else:\n",
    "    print(\"Invalid prediction label.\")\n"
   ]
  }
 ],
 "metadata": {
  "kernelspec": {
   "display_name": "Python 3 (ipykernel)",
   "language": "python",
   "name": "python3"
  },
  "language_info": {
   "codemirror_mode": {
    "name": "ipython",
    "version": 3
   },
   "file_extension": ".py",
   "mimetype": "text/x-python",
   "name": "python",
   "nbconvert_exporter": "python",
   "pygments_lexer": "ipython3",
   "version": "3.11.7"
  }
 },
 "nbformat": 4,
 "nbformat_minor": 5
}
