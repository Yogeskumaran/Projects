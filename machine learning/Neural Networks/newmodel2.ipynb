{
 "cells": [
  {
   "cell_type": "code",
   "execution_count": 1,
   "id": "97de9c49-a751-43c7-a7f3-aa9f7903a082",
   "metadata": {},
   "outputs": [
    {
     "name": "stdout",
     "output_type": "stream",
     "text": [
      "WARNING:tensorflow:From A:\\anaconda\\Lib\\site-packages\\keras\\src\\losses.py:2976: The name tf.losses.sparse_softmax_cross_entropy is deprecated. Please use tf.compat.v1.losses.sparse_softmax_cross_entropy instead.\n",
      "\n"
     ]
    },
    {
     "data": {
      "text/html": [
       "<div>\n",
       "<style scoped>\n",
       "    .dataframe tbody tr th:only-of-type {\n",
       "        vertical-align: middle;\n",
       "    }\n",
       "\n",
       "    .dataframe tbody tr th {\n",
       "        vertical-align: top;\n",
       "    }\n",
       "\n",
       "    .dataframe thead th {\n",
       "        text-align: right;\n",
       "    }\n",
       "</style>\n",
       "<table border=\"1\" class=\"dataframe\">\n",
       "  <thead>\n",
       "    <tr style=\"text-align: right;\">\n",
       "      <th></th>\n",
       "      <th>text</th>\n",
       "      <th>generated</th>\n",
       "    </tr>\n",
       "  </thead>\n",
       "  <tbody>\n",
       "    <tr>\n",
       "      <th>0</th>\n",
       "      <td>The use of cars has always affected society gr...</td>\n",
       "      <td>0.0</td>\n",
       "    </tr>\n",
       "    <tr>\n",
       "      <th>1</th>\n",
       "      <td>Cars are a part of everyday life. You use them...</td>\n",
       "      <td>0.0</td>\n",
       "    </tr>\n",
       "    <tr>\n",
       "      <th>2</th>\n",
       "      <td>In German Suburb, Life Goes On Without Cars. S...</td>\n",
       "      <td>0.0</td>\n",
       "    </tr>\n",
       "    <tr>\n",
       "      <th>3</th>\n",
       "      <td>Do you drive a car? A truck? Or any kind of ve...</td>\n",
       "      <td>0.0</td>\n",
       "    </tr>\n",
       "    <tr>\n",
       "      <th>4</th>\n",
       "      <td>Cars are one of the most iconic things about A...</td>\n",
       "      <td>0.0</td>\n",
       "    </tr>\n",
       "    <tr>\n",
       "      <th>...</th>\n",
       "      <td>...</td>\n",
       "      <td>...</td>\n",
       "    </tr>\n",
       "    <tr>\n",
       "      <th>17983</th>\n",
       "      <td>By the time a student turns 18, they have spen...</td>\n",
       "      <td>0.0</td>\n",
       "    </tr>\n",
       "    <tr>\n",
       "      <th>17984</th>\n",
       "      <td>Online schooling or video conference? I suppor...</td>\n",
       "      <td>0.0</td>\n",
       "    </tr>\n",
       "    <tr>\n",
       "      <th>17985</th>\n",
       "      <td>In America, students are far from the top perf...</td>\n",
       "      <td>0.0</td>\n",
       "    </tr>\n",
       "    <tr>\n",
       "      <th>17986</th>\n",
       "      <td>Imagine for a minute that you are at school, o...</td>\n",
       "      <td>0.0</td>\n",
       "    </tr>\n",
       "    <tr>\n",
       "      <th>17987</th>\n",
       "      <td>When there is snow in the forecast, students a...</td>\n",
       "      <td>0.0</td>\n",
       "    </tr>\n",
       "  </tbody>\n",
       "</table>\n",
       "<p>17988 rows × 2 columns</p>\n",
       "</div>"
      ],
      "text/plain": [
       "                                                    text  generated\n",
       "0      The use of cars has always affected society gr...        0.0\n",
       "1      Cars are a part of everyday life. You use them...        0.0\n",
       "2      In German Suburb, Life Goes On Without Cars. S...        0.0\n",
       "3      Do you drive a car? A truck? Or any kind of ve...        0.0\n",
       "4      Cars are one of the most iconic things about A...        0.0\n",
       "...                                                  ...        ...\n",
       "17983  By the time a student turns 18, they have spen...        0.0\n",
       "17984  Online schooling or video conference? I suppor...        0.0\n",
       "17985  In America, students are far from the top perf...        0.0\n",
       "17986  Imagine for a minute that you are at school, o...        0.0\n",
       "17987  When there is snow in the forecast, students a...        0.0\n",
       "\n",
       "[17988 rows x 2 columns]"
      ]
     },
     "execution_count": 1,
     "metadata": {},
     "output_type": "execute_result"
    }
   ],
   "source": [
    "import pandas as pd\n",
    "import tensorflow as tf\n",
    "from sklearn.model_selection import train_test_split\n",
    "from keras.models import Sequential\n",
    "from keras.layers import Dense,LSTM,Embedding\n",
    "from keras.preprocessing.sequence import pad_sequences\n",
    "df=pd.read_csv(r\"B:\\project\\newdataset\\chunk_2.csv\")\n",
    "df = df.drop(columns=['Unnamed: 0'])\n",
    "df"
   ]
  },
  {
   "cell_type": "code",
   "execution_count": 2,
   "id": "d045a0d9-9088-460b-b3ad-ac289ce67499",
   "metadata": {},
   "outputs": [],
   "source": [
    "from transformers import LongformerTokenizer\n",
    "tokenizer=LongformerTokenizer.from_pretrained('allenai/longformer-base-4096')\n",
    "essays=df['text'].tolist()\n",
    "tokens=tokenizer(essays,return_tensors='pt',padding=True,truncation=True)"
   ]
  },
  {
   "cell_type": "code",
   "execution_count": 3,
   "id": "867e0fa1-9ca0-4865-97a8-26d36b818818",
   "metadata": {},
   "outputs": [
    {
     "name": "stdout",
     "output_type": "stream",
     "text": [
      "Input IDs size: torch.Size([17988, 4096])\n",
      "Attention Mask size: torch.Size([17988, 4096])\n",
      "Vocabulary Size: 28820\n",
      "Max Sequence Length: 4096\n"
     ]
    }
   ],
   "source": [
    "x=tokens['input_ids']\n",
    "y=df['generated']\n",
    "xtrain,xtest,ytrain,ytest=train_test_split(x,y,test_size=0.2,random_state=42)\n",
    "input_ids_size = tokens['input_ids'].size()\n",
    "attention_mask_size = tokens['attention_mask'].size()\n",
    "print(\"Input IDs size:\", input_ids_size)\n",
    "print(\"Attention Mask size:\", attention_mask_size)\n",
    "# Assuming 'tokens' is the result of tokenizer\n",
    "unique_tokens = set(token.item() for seq in tokens['input_ids'] for token in seq)\n",
    "vocabulary_size = len(unique_tokens)\n",
    "\n",
    "print(\"Vocabulary Size:\", vocabulary_size)\n",
    "# Assuming 'input_ids' is the first element in xtrain\n",
    "max_sequence_length_x = max(len(seq) for seq in xtrain)\n",
    "\n",
    "# Print or use the max_sequence_length_x in your pad_sequences and Embedding layer\n",
    "print(\"Max Sequence Length:\", max_sequence_length_x)\n"
   ]
  },
  {
   "cell_type": "code",
   "execution_count": 5,
   "id": "a598b376-bc9e-4afc-b23c-8095f2aa5e6c",
   "metadata": {},
   "outputs": [
    {
     "name": "stdout",
     "output_type": "stream",
     "text": [
      "Epoch 1/5\n",
      "450/450 [==============================] - 967s 2s/step - loss: 0.0130 - accuracy: 1.0000\n",
      "Epoch 2/5\n",
      "450/450 [==============================] - 915s 2s/step - loss: 2.4286e-05 - accuracy: 1.0000\n",
      "Epoch 3/5\n",
      "450/450 [==============================] - 935s 2s/step - loss: 1.3413e-05 - accuracy: 1.0000\n",
      "Epoch 4/5\n",
      "450/450 [==============================] - 951s 2s/step - loss: 8.6601e-06 - accuracy: 1.0000\n",
      "Epoch 5/5\n",
      "450/450 [==============================] - 935s 2s/step - loss: 6.0241e-06 - accuracy: 1.0000\n"
     ]
    },
    {
     "data": {
      "text/plain": [
       "<keras.src.callbacks.History at 0x1bfa4d82e90>"
      ]
     },
     "execution_count": 5,
     "metadata": {},
     "output_type": "execute_result"
    }
   ],
   "source": [
    "model=Sequential()\n",
    "input_length=4096\n",
    "xtrain_np=xtrain.numpy()\n",
    "model.add(Embedding(input_dim=52000,output_dim=100,input_length=input_length))\n",
    "model.add(LSTM(64))\n",
    "model.add(Dense(1,activation='sigmoid'))\n",
    "model.compile(optimizer='adam',loss='binary_crossentropy',metrics=['accuracy'])\n",
    "model.fit(xtrain_np,ytrain,epochs=5,batch_size=32)"
   ]
  },
  {
   "cell_type": "code",
   "execution_count": 7,
   "id": "8e12308d-4da5-41c2-8e90-5236c53759de",
   "metadata": {},
   "outputs": [
    {
     "name": "stdout",
     "output_type": "stream",
     "text": [
      "113/113 [==============================] - 45s 396ms/step - loss: 5.0825e-06 - accuracy: 1.0000\n"
     ]
    },
    {
     "data": {
      "text/plain": [
       "[5.082535153633216e-06, 1.0]"
      ]
     },
     "execution_count": 7,
     "metadata": {},
     "output_type": "execute_result"
    }
   ],
   "source": [
    "xtest_np=xtest.numpy()\n",
    "model.evaluate(xtest_np,ytest)\n"
   ]
  },
  {
   "cell_type": "code",
   "execution_count": 8,
   "id": "8b7c41f8-a62d-4067-8e4a-9ff39a0159d1",
   "metadata": {},
   "outputs": [],
   "source": [
    "model.save(\"newmodel2.keras\")"
   ]
  }
 ],
 "metadata": {
  "kernelspec": {
   "display_name": "Python 3 (ipykernel)",
   "language": "python",
   "name": "python3"
  },
  "language_info": {
   "codemirror_mode": {
    "name": "ipython",
    "version": 3
   },
   "file_extension": ".py",
   "mimetype": "text/x-python",
   "name": "python",
   "nbconvert_exporter": "python",
   "pygments_lexer": "ipython3",
   "version": "3.11.7"
  }
 },
 "nbformat": 4,
 "nbformat_minor": 5
}
