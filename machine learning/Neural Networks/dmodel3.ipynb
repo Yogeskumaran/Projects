{
 "cells": [
  {
   "cell_type": "code",
   "execution_count": 1,
   "id": "2c4688f6-2ada-4231-839b-234f12bdbecb",
   "metadata": {},
   "outputs": [
    {
     "name": "stdout",
     "output_type": "stream",
     "text": [
      "WARNING:tensorflow:From A:\\anaconda\\Lib\\site-packages\\keras\\src\\losses.py:2976: The name tf.losses.sparse_softmax_cross_entropy is deprecated. Please use tf.compat.v1.losses.sparse_softmax_cross_entropy instead.\n",
      "\n",
      "(30580, 2)\n"
     ]
    }
   ],
   "source": [
    "import pandas as pd\n",
    "import tensorflow as tf\n",
    "from sklearn.model_selection import train_test_split\n",
    "from keras.models import Sequential\n",
    "from keras.layers import Dense,LSTM,Embedding\n",
    "from keras.preprocessing.sequence import pad_sequences\n",
    "filepath=[r\"B:\\project\\human\\human_chunk_3.csv\",r\"B:\\project\\ai\\ai_chunk_3.csv\"]\n",
    "dfs = [pd.read_csv(filepath) for filepath in filepath]\n",
    "df = pd.concat(dfs, ignore_index=True)\n",
    "print(df.shape)"
   ]
  },
  {
   "cell_type": "code",
   "execution_count": 2,
   "id": "0284a7b3-7652-49fb-b0ae-3485bf54e911",
   "metadata": {},
   "outputs": [],
   "source": [
    "essay=df['text'].tolist()\n",
    "from transformers import LongformerTokenizer\n",
    "tokenizer=LongformerTokenizer.from_pretrained('allenai/longformer-base-4096')\n",
    "# essay=df['text'].tolist()\n",
    "tokens=tokenizer(essay,return_tensors='pt',padding=True,truncation=True)"
   ]
  },
  {
   "cell_type": "code",
   "execution_count": 3,
   "id": "1b373020-9453-4993-a6cb-0dccb216273a",
   "metadata": {},
   "outputs": [],
   "source": [
    "x=tokens['input_ids']\n",
    "y=df['generated']\n",
    "xtrain,xtest,ytrain,ytest=train_test_split(x,y,test_size=0.2,random_state=42)\n",
    "# input_ids_size = tokens['input_ids'].size()\n",
    "# attention_mask_size = tokens['attention_mask'].size()\n",
    "# print(\"Input IDs size:\", input_ids_size)\n",
    "# print(\"Attention Mask size:\", attention_mask_size)\n",
    "# # Assuming 'tokens' is the result of tokenizer\n",
    "# unique_tokens = set(token.item() for seq in tokens['input_ids'] for token in seq)\n",
    "# vocabulary_size = len(unique_tokens)\n",
    "\n",
    "# print(\"Vocabulary Size:\", vocabulary_size)\n",
    "# # Assuming 'input_ids' is the first element in xtrain\n",
    "# max_sequence_length_x = max(len(seq) for seq in xtrain)\n",
    "\n",
    "# Print or use the max_sequence_length_x in your pad_sequences and Embedding layer\n",
    "# print(\"Max Sequence Length:\", max_sequence_length_x)\n"
   ]
  },
  {
   "cell_type": "code",
   "execution_count": 10,
   "id": "6aa49d15-84fd-499a-b56e-ab324af1d918",
   "metadata": {},
   "outputs": [
    {
     "name": "stdout",
     "output_type": "stream",
     "text": [
      "Epoch 1/5\n",
      "96/96 [==============================] - 308s 3s/step - loss: 0.2632 - accuracy: 0.9077\n",
      "Epoch 2/5\n",
      "96/96 [==============================] - 306s 3s/step - loss: 0.0306 - accuracy: 0.9916\n",
      "Epoch 3/5\n",
      "96/96 [==============================] - 305s 3s/step - loss: 0.0120 - accuracy: 0.9976\n",
      "Epoch 4/5\n",
      "96/96 [==============================] - 307s 3s/step - loss: 0.0058 - accuracy: 0.9990\n",
      "Epoch 5/5\n",
      "96/96 [==============================] - 305s 3s/step - loss: 0.0033 - accuracy: 0.9995\n"
     ]
    },
    {
     "data": {
      "text/plain": [
       "<keras.src.callbacks.History at 0x23126cf8390>"
      ]
     },
     "execution_count": 10,
     "metadata": {},
     "output_type": "execute_result"
    }
   ],
   "source": [
    "from tensorflow.keras.layers import Input, Embedding, Conv1D, GlobalMaxPooling1D, Dense, Dropout\n",
    "from tensorflow.keras.models import Model\n",
    "xtrain_np=xtrain.numpy()\n",
    "input_length = None\n",
    "input_layer = Input(shape=(input_length,))\n",
    "embedding_layer = Embedding(input_dim=51000, output_dim=128, input_length=input_length)(input_layer)\n",
    "conv1d_layer = Conv1D(256, 5, activation='relu')(embedding_layer)\n",
    "maxpool_layer = GlobalMaxPooling1D()(conv1d_layer)\n",
    "dense_layer = Dense(128, activation='relu')(maxpool_layer)\n",
    "dropout_layer = Dropout(0.5)(dense_layer)\n",
    "output_layer = Dense(1, activation='sigmoid')(dropout_layer)\n",
    "model = Model(inputs=input_layer, outputs=output_layer)\n",
    "model.compile(optimizer='adam', loss='binary_crossentropy', metrics=['accuracy'])\n",
    "# Assuming xtrain_np and ytrain are NumPy arrays\n",
    "model.fit(xtrain_np, ytrain, epochs=5, batch_size=256)"
   ]
  },
  {
   "cell_type": "code",
   "execution_count": 11,
   "id": "0305949f-7e12-4391-a485-c20e5c62263b",
   "metadata": {},
   "outputs": [
    {
     "name": "stdout",
     "output_type": "stream",
     "text": [
      "192/192 [==============================] - 17s 86ms/step - loss: 0.0306 - accuracy: 0.9926\n"
     ]
    },
    {
     "data": {
      "text/plain": [
       "[0.030591478571295738, 0.9926422238349915]"
      ]
     },
     "execution_count": 11,
     "metadata": {},
     "output_type": "execute_result"
    }
   ],
   "source": [
    "xtest_np=xtest.numpy()\n",
    "model.evaluate(xtest_np,ytest)"
   ]
  },
  {
   "cell_type": "code",
   "execution_count": 12,
   "id": "06c2b64b-8ade-442e-9f53-1e222bb8fe3d",
   "metadata": {},
   "outputs": [],
   "source": [
    "model.save(\"dmodel3.keras\")\n",
    "model.save_weights('dmodel3_weights.keras')"
   ]
  },
  {
   "cell_type": "code",
   "execution_count": 7,
   "id": "622ceeef-ab57-44d0-9df4-df3f5614722a",
   "metadata": {},
   "outputs": [],
   "source": [
    "x=tokens['input_ids']\n",
    "y=df['generated']\n",
    "xtrain,xtest,ytrain,ytest=train_test_split(x,y,test_size=0.2,random_state=42)\n",
    "xtrain_np=xtrain.numpy()\n",
    "xtest_np=xtest.numpy()\n",
    "xtrain_np3=xtrain_np\n",
    "xtest_np3=xtest_np\n",
    "import numpy as np\n",
    "xtrain_np3 = np.array(xtrain_np3)\n",
    "xtest_np3=np.array(xtest_np3)\n",
    "np.savetxt('B:/project/test/xtest_np3.csv', xtest_np3, delimiter=',')\n",
    "np.savetxt('B:/project/train/xtrain_np3.csv', xtrain_np3, delimiter=',')\n",
    "ytest.to_csv(\"B:/project/ytest/ytest3.csv\")"
   ]
  },
  {
   "cell_type": "code",
   "execution_count": 8,
   "id": "c6f1aaef-6a29-4a45-8633-704411f74f6d",
   "metadata": {},
   "outputs": [],
   "source": [
    "x=tokens['input_ids']\n",
    "y=df['generated']\n",
    "xtrain,xtest,ytrain,ytest=train_test_split(x,y,test_size=0.2,random_state=42)\n",
    "ytrain.to_csv(\"B:/project/ytrain/ytrain3.csv\")\n"
   ]
  }
 ],
 "metadata": {
  "kernelspec": {
   "display_name": "Python 3 (ipykernel)",
   "language": "python",
   "name": "python3"
  },
  "language_info": {
   "codemirror_mode": {
    "name": "ipython",
    "version": 3
   },
   "file_extension": ".py",
   "mimetype": "text/x-python",
   "name": "python",
   "nbconvert_exporter": "python",
   "pygments_lexer": "ipython3",
   "version": "3.11.7"
  }
 },
 "nbformat": 4,
 "nbformat_minor": 5
}
