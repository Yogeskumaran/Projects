{
 "cells": [
  {
   "cell_type": "code",
   "execution_count": 3,
   "id": "8cce7544-902a-4235-940b-8543d89627ce",
   "metadata": {},
   "outputs": [
    {
     "name": "stdout",
     "output_type": "stream",
     "text": [
      "(183477, 2)\n"
     ]
    }
   ],
   "source": [
    "import pandas as pd\n",
    "import tensorflow as tf\n",
    "from sklearn.model_selection import train_test_split\n",
    "from keras.models import Sequential\n",
    "from keras.layers import Dense,LSTM,Embedding\n",
    "from keras.preprocessing.sequence import pad_sequences\n",
    "filepath=[r\"B:\\project\\human\\human_chunk_15.csv\",r\"B:\\project\\ai\\ai_chunk_10.csv\",\"B:\\project\\human\\human_chunk_16.csv\",r\"B:\\project\\ai\\ai_chunk_9.csv\",\"B:\\project\\human\\human_chunk_17.csv\",r\"B:\\project\\ai\\ai_chunk_8.csv\",\"B:\\project\\human\\human_chunk_18.csv\",r\"B:\\project\\ai\\ai_chunk_7.csv\",\"B:\\project\\human\\human_chunk_19.csv\",r\"B:\\project\\ai\\ai_chunk_6.csv\",\"B:\\project\\human\\human_chunk_20.csv\",r\"B:\\project\\ai\\ai_chunk_5.csv\"]\n",
    "dfs = [pd.read_csv(filepath) for filepath in filepath]\n",
    "df = pd.concat(dfs, ignore_index=True)\n",
    "print(df.shape)"
   ]
  },
  {
   "cell_type": "code",
   "execution_count": 4,
   "id": "b975e60e-f91f-41f0-b770-430ce3767694",
   "metadata": {},
   "outputs": [],
   "source": [
    "from transformers import LongformerTokenizer\n",
    "data=df['text'].tolist()\n",
    "tokenizer=LongformerTokenizer.from_pretrained('allenai/longformer-base-4096')\n",
    "tokens=tokenizer(data,return_tensors='pt',padding=True,truncation=True)"
   ]
  },
  {
   "cell_type": "code",
   "execution_count": 5,
   "id": "241cdee2-d3af-4551-b3cd-79ad00a51ac0",
   "metadata": {},
   "outputs": [],
   "source": [
    "from sklearn.model_selection import train_test_split\n",
    "x=tokens['input_ids']\n",
    "y=df['generated']\n",
    "xtrain,xtemp,ytrain,ytemp=train_test_split(x,y,test_size=0.3,random_state=42)\n",
    "xtest,xval,ytest,yval=train_test_split(xtemp,ytemp,test_size=0.3,random_state=42)\n",
    "xtest,xtrain,xval=xtest.numpy(),xtrain.numpy(),xval.numpy()"
   ]
  },
  {
   "cell_type": "code",
   "execution_count": 7,
   "id": "330a6d35-5b97-4aeb-a5fa-fd27ca5035eb",
   "metadata": {},
   "outputs": [
    {
     "name": "stdout",
     "output_type": "stream",
     "text": [
      "Epoch 1/5\n",
      "502/502 [==============================] - 375s 746ms/step - loss: 0.0023 - accuracy: 0.9995 - val_loss: 0.0015 - val_accuracy: 0.9995\n",
      "Epoch 2/5\n",
      "502/502 [==============================] - 334s 664ms/step - loss: 0.0012 - accuracy: 0.9997 - val_loss: 0.0027 - val_accuracy: 0.9992\n",
      "Epoch 3/5\n",
      "502/502 [==============================] - 321s 640ms/step - loss: 6.9958e-04 - accuracy: 0.9999 - val_loss: 0.0026 - val_accuracy: 0.9995\n",
      "Epoch 4/5\n",
      "502/502 [==============================] - 320s 638ms/step - loss: 4.7553e-04 - accuracy: 0.9999 - val_loss: 0.0023 - val_accuracy: 0.9995\n",
      "Epoch 5/5\n",
      "502/502 [==============================] - 320s 638ms/step - loss: 5.7435e-04 - accuracy: 0.9999 - val_loss: 0.0040 - val_accuracy: 0.9992\n"
     ]
    },
    {
     "data": {
      "text/plain": [
       "<keras.src.callbacks.History at 0x25670c33b10>"
      ]
     },
     "execution_count": 7,
     "metadata": {},
     "output_type": "execute_result"
    }
   ],
   "source": [
    "from keras.models import load_model\n",
    "model=load_model('finetuned4.keras')\n",
    "model.compile(optimizer='adam',loss='binary_crossentropy',metrics=['accuracy'])\n",
    "model.fit(xtrain,ytrain,epochs=5,batch_size=256,validation_data=(xval,yval))"
   ]
  },
  {
   "cell_type": "code",
   "execution_count": 8,
   "id": "6c91b32f-97f8-4342-b77f-0d4a2fe6624c",
   "metadata": {},
   "outputs": [
    {
     "name": "stdout",
     "output_type": "stream",
     "text": [
      "1205/1205 [==============================] - 18s 15ms/step - loss: 0.0028 - accuracy: 0.9995\n"
     ]
    }
   ],
   "source": [
    "model.evaluate(xtest,ytest)\n",
    "model.save('D_MODEL.keras')"
   ]
  }
 ],
 "metadata": {
  "kernelspec": {
   "display_name": "Python 3 (ipykernel)",
   "language": "python",
   "name": "python3"
  },
  "language_info": {
   "codemirror_mode": {
    "name": "ipython",
    "version": 3
   },
   "file_extension": ".py",
   "mimetype": "text/x-python",
   "name": "python",
   "nbconvert_exporter": "python",
   "pygments_lexer": "ipython3",
   "version": "3.11.7"
  }
 },
 "nbformat": 4,
 "nbformat_minor": 5
}
