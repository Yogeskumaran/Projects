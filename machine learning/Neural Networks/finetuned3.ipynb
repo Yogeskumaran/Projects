{
 "cells": [
  {
   "cell_type": "code",
   "execution_count": 1,
   "id": "86c46888-9fd5-44c7-a6b9-643dff68924a",
   "metadata": {},
   "outputs": [
    {
     "name": "stdout",
     "output_type": "stream",
     "text": [
      "WARNING:tensorflow:From A:\\anaconda\\Lib\\site-packages\\keras\\src\\losses.py:2976: The name tf.losses.sparse_softmax_cross_entropy is deprecated. Please use tf.compat.v1.losses.sparse_softmax_cross_entropy instead.\n",
      "\n",
      "(122320, 2)\n"
     ]
    }
   ],
   "source": [
    "import pandas as pd\n",
    "import tensorflow as tf\n",
    "from sklearn.model_selection import train_test_split\n",
    "from keras.models import Sequential\n",
    "from keras.layers import Dense,LSTM,Embedding\n",
    "from keras.preprocessing.sequence import pad_sequences\n",
    "filepath=[r\"B:\\project\\human\\human_chunk_7.csv\",r\"B:\\project\\ai\\ai_chunk_7.csv\",\"B:\\project\\human\\human_chunk_8.csv\",r\"B:\\project\\ai\\ai_chunk_8.csv\",\"B:\\project\\human\\human_chunk_9.csv\",r\"B:\\project\\ai\\ai_chunk_9.csv\",\"B:\\project\\human\\human_chunk_10.csv\",r\"B:\\project\\ai\\ai_chunk_10.csv\"]\n",
    "dfs = [pd.read_csv(filepath) for filepath in filepath]\n",
    "df = pd.concat(dfs, ignore_index=True)\n",
    "print(df.shape)"
   ]
  },
  {
   "cell_type": "code",
   "execution_count": 2,
   "id": "475859f8-71c8-483b-a07a-6b87bfc4e694",
   "metadata": {},
   "outputs": [],
   "source": [
    "from transformers import LongformerTokenizer\n",
    "data=df['text'].tolist()\n",
    "tokenizer=LongformerTokenizer.from_pretrained('allenai/longformer-base-4096')\n",
    "tokens=tokenizer(data,return_tensors='pt',padding=True,truncation=True)"
   ]
  },
  {
   "cell_type": "code",
   "execution_count": 3,
   "id": "7cd51cae-b632-48ee-a10c-cb95dd9eb806",
   "metadata": {},
   "outputs": [],
   "source": [
    "from sklearn.model_selection import train_test_split\n",
    "x=tokens['input_ids']\n",
    "y=df['generated']\n",
    "xtrain,xtemp,ytrain,ytemp=train_test_split(x,y,test_size=0.3,random_state=42)\n",
    "xtest,xval,ytest,yval=train_test_split(xtemp,ytemp,test_size=0.3,random_state=42)\n",
    "xtest,xtrain,xval=xtest.numpy(),xtrain.numpy(),xval.numpy()"
   ]
  },
  {
   "cell_type": "code",
   "execution_count": 4,
   "id": "bb0392da-0b9a-4f33-94da-ae5a245af9fd",
   "metadata": {},
   "outputs": [
    {
     "name": "stdout",
     "output_type": "stream",
     "text": [
      "WARNING:tensorflow:From A:\\anaconda\\Lib\\site-packages\\keras\\src\\backend.py:1398: The name tf.executing_eagerly_outside_functions is deprecated. Please use tf.compat.v1.executing_eagerly_outside_functions instead.\n",
      "\n",
      "WARNING:tensorflow:From A:\\anaconda\\Lib\\site-packages\\keras\\src\\optimizers\\__init__.py:309: The name tf.train.Optimizer is deprecated. Please use tf.compat.v1.train.Optimizer instead.\n",
      "\n",
      "Epoch 1/5\n",
      "WARNING:tensorflow:From A:\\anaconda\\Lib\\site-packages\\keras\\src\\utils\\tf_utils.py:492: The name tf.ragged.RaggedTensorValue is deprecated. Please use tf.compat.v1.ragged.RaggedTensorValue instead.\n",
      "\n",
      "WARNING:tensorflow:From A:\\anaconda\\Lib\\site-packages\\keras\\src\\engine\\base_layer_utils.py:384: The name tf.executing_eagerly_outside_functions is deprecated. Please use tf.compat.v1.executing_eagerly_outside_functions instead.\n",
      "\n",
      "335/335 [==============================] - 231s 684ms/step - loss: 0.0072 - accuracy: 0.9979 - val_loss: 0.0049 - val_accuracy: 0.9987\n",
      "Epoch 2/5\n",
      "335/335 [==============================] - 231s 689ms/step - loss: 0.0016 - accuracy: 0.9996 - val_loss: 0.0060 - val_accuracy: 0.9988\n",
      "Epoch 3/5\n",
      "335/335 [==============================] - 234s 698ms/step - loss: 0.0011 - accuracy: 0.9997 - val_loss: 0.0044 - val_accuracy: 0.9990\n",
      "Epoch 4/5\n",
      "335/335 [==============================] - 233s 697ms/step - loss: 7.6448e-04 - accuracy: 0.9999 - val_loss: 0.0049 - val_accuracy: 0.9987\n",
      "Epoch 5/5\n",
      "335/335 [==============================] - 235s 701ms/step - loss: 4.6908e-04 - accuracy: 0.9999 - val_loss: 0.0058 - val_accuracy: 0.9986\n"
     ]
    },
    {
     "data": {
      "text/plain": [
       "<keras.src.callbacks.History at 0x266cdfd93d0>"
      ]
     },
     "execution_count": 4,
     "metadata": {},
     "output_type": "execute_result"
    }
   ],
   "source": [
    "from keras.models import load_model\n",
    "model=load_model('finetuned2.keras')\n",
    "model.compile(optimizer='adam',loss='binary_crossentropy',metrics=['accuracy'])\n",
    "model.fit(xtrain,ytrain,epochs=5,batch_size=256,validation_data=(xval,yval))"
   ]
  },
  {
   "cell_type": "code",
   "execution_count": 5,
   "id": "dd46d94e-1737-4089-b0c9-ae74d4d3e32d",
   "metadata": {},
   "outputs": [
    {
     "name": "stdout",
     "output_type": "stream",
     "text": [
      "803/803 [==============================] - 14s 17ms/step - loss: 0.0071 - accuracy: 0.9987\n"
     ]
    }
   ],
   "source": [
    "model.evaluate(xtest,ytest)\n",
    "model.save('finetuned3.keras')"
   ]
  }
 ],
 "metadata": {
  "kernelspec": {
   "display_name": "Python 3 (ipykernel)",
   "language": "python",
   "name": "python3"
  },
  "language_info": {
   "codemirror_mode": {
    "name": "ipython",
    "version": 3
   },
   "file_extension": ".py",
   "mimetype": "text/x-python",
   "name": "python",
   "nbconvert_exporter": "python",
   "pygments_lexer": "ipython3",
   "version": "3.11.7"
  }
 },
 "nbformat": 4,
 "nbformat_minor": 5
}
