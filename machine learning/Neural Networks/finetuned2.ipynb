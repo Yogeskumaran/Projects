{
 "cells": [
  {
   "cell_type": "code",
   "execution_count": 15,
   "id": "dc20273c-8baf-4f7e-aed8-88c66424ea1b",
   "metadata": {},
   "outputs": [
    {
     "name": "stdout",
     "output_type": "stream",
     "text": [
      "(91740, 2)\n"
     ]
    }
   ],
   "source": [
    "import pandas as pd\n",
    "import tensorflow as tf\n",
    "from sklearn.model_selection import train_test_split\n",
    "from keras.models import Sequential\n",
    "from keras.layers import Dense,LSTM,Embedding\n",
    "from keras.preprocessing.sequence import pad_sequences\n",
    "filepath=[r\"B:\\project\\human\\human_chunk_4.csv\",r\"B:\\project\\ai\\ai_chunk_4.csv\",\"B:\\project\\human\\human_chunk_5.csv\",r\"B:\\project\\ai\\ai_chunk_5.csv\",\"B:\\project\\human\\human_chunk_6.csv\",r\"B:\\project\\ai\\ai_chunk_6.csv\"]\n",
    "dfs = [pd.read_csv(filepath) for filepath in filepath]\n",
    "df = pd.concat(dfs, ignore_index=True)\n",
    "print(df.shape)"
   ]
  },
  {
   "cell_type": "code",
   "execution_count": 17,
   "id": "6ac0eff1-f70d-463a-83b9-faf8371ceb3e",
   "metadata": {},
   "outputs": [],
   "source": [
    "from transformers import LongformerTokenizer\n",
    "data=df['text'].tolist()\n",
    "tokenizer=LongformerTokenizer.from_pretrained('allenai/longformer-base-4096')\n",
    "tokens=tokenizer(data,return_tensors='pt',padding=True,truncation=True)"
   ]
  },
  {
   "cell_type": "code",
   "execution_count": 5,
   "id": "d72b208a-127c-4cf5-8c42-47f307d79e95",
   "metadata": {},
   "outputs": [
    {
     "data": {
      "text/plain": [
       "tensor([[0, 3, 3,  ..., 3, 3, 2]])"
      ]
     },
     "execution_count": 5,
     "metadata": {},
     "output_type": "execute_result"
    }
   ],
   "source": [
    "tokens"
   ]
  },
  {
   "cell_type": "code",
   "execution_count": 21,
   "id": "5c77b824-18d0-4326-9686-8f7db0e3ae24",
   "metadata": {},
   "outputs": [],
   "source": [
    "from sklearn.model_selection import train_test_split\n",
    "x=tokens['input_ids']\n",
    "y=df['generated']\n",
    "xtrain,xtemp,ytrain,ytemp=train_test_split(x,y,test_size=0.3,random_state=42)\n",
    "xtest,xval,ytest,yval=train_test_split(xtemp,ytemp,test_size=0.3,random_state=42)\n",
    "xtest,xtrain,xval=xtest.numpy(),xtrain.numpy(),xval.numpy()"
   ]
  },
  {
   "cell_type": "code",
   "execution_count": 22,
   "id": "dce6cf98-f0a3-4c2d-a028-66e4ac7e259b",
   "metadata": {},
   "outputs": [
    {
     "name": "stdout",
     "output_type": "stream",
     "text": [
      "Epoch 1/5\n",
      "251/251 [==============================] - 136s 538ms/step - loss: 0.0079 - accuracy: 0.9978 - val_loss: 0.0040 - val_accuracy: 0.9993\n",
      "Epoch 2/5\n",
      "251/251 [==============================] - 149s 592ms/step - loss: 0.0014 - accuracy: 0.9998 - val_loss: 0.0044 - val_accuracy: 0.9990\n",
      "Epoch 3/5\n",
      "251/251 [==============================] - 146s 582ms/step - loss: 6.5534e-04 - accuracy: 0.9999 - val_loss: 0.0034 - val_accuracy: 0.9995\n",
      "Epoch 4/5\n",
      "251/251 [==============================] - 145s 579ms/step - loss: 5.4772e-04 - accuracy: 1.0000 - val_loss: 0.0048 - val_accuracy: 0.9990\n",
      "Epoch 5/5\n",
      "251/251 [==============================] - 146s 581ms/step - loss: 1.5332e-04 - accuracy: 1.0000 - val_loss: 0.0041 - val_accuracy: 0.9994\n"
     ]
    },
    {
     "data": {
      "text/plain": [
       "<keras.src.callbacks.History at 0x210ff4eff50>"
      ]
     },
     "execution_count": 22,
     "metadata": {},
     "output_type": "execute_result"
    }
   ],
   "source": [
    "from keras.models import load_model\n",
    "model=load_model('finetuned1.keras')\n",
    "model.compile(optimizer='adam',loss='binary_crossentropy',metrics=['accuracy'])\n",
    "model.fit(xtrain,ytrain,epochs=5,batch_size=256,validation_data=(xval,yval))"
   ]
  },
  {
   "cell_type": "code",
   "execution_count": 23,
   "id": "d42edb44-edfe-41bd-8de5-cdffcb9f3626",
   "metadata": {},
   "outputs": [
    {
     "name": "stdout",
     "output_type": "stream",
     "text": [
      "603/603 [==============================] - 9s 15ms/step - loss: 0.0030 - accuracy: 0.9991\n"
     ]
    },
    {
     "data": {
      "text/plain": [
       "[0.0030358871445059776, 0.9991175532341003]"
      ]
     },
     "execution_count": 23,
     "metadata": {},
     "output_type": "execute_result"
    }
   ],
   "source": [
    "model.evaluate(xtest,ytest)"
   ]
  },
  {
   "cell_type": "code",
   "execution_count": 25,
   "id": "19bc9b5a-00f0-4916-b3a1-080ea6144e38",
   "metadata": {},
   "outputs": [],
   "source": [
    "model.save('finetuned2.keras')"
   ]
  },
  {
   "cell_type": "code",
   "execution_count": 26,
   "id": "9292a3d5-6b8b-4c4e-a289-e4863b28bf35",
   "metadata": {},
   "outputs": [],
   "source": [
    "model1=load_model('finetuned2.keras')"
   ]
  },
  {
   "cell_type": "code",
   "execution_count": 36,
   "id": "e9cf2637-adae-417e-9ee4-b5852f0d67d5",
   "metadata": {},
   "outputs": [
    {
     "name": "stdout",
     "output_type": "stream",
     "text": [
      "1/1 [==============================] - 0s 18ms/step\n",
      "1: It is an AI-generated text\n"
     ]
    }
   ],
   "source": [
    "# x='My argument for the development of the driverless cars is that we should have them These cars should be allowed to be made they can become really helpful to people They can also provide really good safety features The diverless car will help the environment it will spend less of our natrual resources that we use These cars will change the way our future will look like First of all the diverless cars will help tons of people around the world Think of all the handicap people on this earth who can t drive These cars will change their lives They can travel by their selfs instead of people picking them up to go places There might be people who become drunk or injured and they need to go to their house or hopistal With these cars they can get there Second the driverless car can provide really good safety features The cars will have a lot of sensors When Google modifed their Toyota Prius they use position estimating senosors rotating sensors video cameras four automotive radar sensors etc They put all theses thing on a car to make it safe and to drive on its own The driverless car can have all these features to be a very safe car to drive Last the driverless cars will help the environment and will spend less of our natrual resources A Google cofounder Sergey Brin says that the cars he foresees would use half the fuel of taday s taxis and offer far more flexiblity than a bus These driverless cars provide less car accidents With less accidents people won t get killed or injured The driverless car will aslo provide less money of fuel In conclusion the driverless cars will change our future It will help people get around easily The cars will provide greay safety features Its will also help the environment I hope i would be able to see these driverless car around someday'\n",
    "x='Thomas Jefferson was a prominent American statesman and Founding Father who is most famously remembered for writing the Declaration of Independence He was a passionate believer in hard work and the value of individuals coming together to serve each other and their country According to Jefferson respect and collaboration are integral parts of any successful society These beliefs of Jefferson s still resonate today especially in the modern workplace As technology continues to advance and more people are relying on collaborative talents it is essential to remember the lessons that Jefferson taught us about the need to work hard and treat others with respect People of all backgrounds need to come together to ensure that we are able to effectively and efficiently solve any issues that arise Of course mutual respect is key to this endeavor The sentiments that Jefferson promoted are as relevant now as they ve ever been We must never forget the importance of values such as hard work and respect for each other His unwavering commitment to ensuring the longevity of these principles can continue to serve us and help us move towards a brighter and more productive future'\n",
    "tokens=tokenizer(x,return_tensors='pt',padding=True,truncation=True)\n",
    "input=tokens['input_ids'].numpy()\n",
    "pred=model1.predict(input)\n",
    "threshold = 0.5\n",
    "prediction_value = pred[0, 0]\n",
    "\n",
    "# Check the prediction and print the result\n",
    "if prediction_value >= threshold:\n",
    "    print(\"1: It is an AI-generated text\")\n",
    "else:\n",
    "    print(\"0: It is Human-generated text\")"
   ]
  }
 ],
 "metadata": {
  "kernelspec": {
   "display_name": "Python 3 (ipykernel)",
   "language": "python",
   "name": "python3"
  },
  "language_info": {
   "codemirror_mode": {
    "name": "ipython",
    "version": 3
   },
   "file_extension": ".py",
   "mimetype": "text/x-python",
   "name": "python",
   "nbconvert_exporter": "python",
   "pygments_lexer": "ipython3",
   "version": "3.11.7"
  }
 },
 "nbformat": 4,
 "nbformat_minor": 5
}
